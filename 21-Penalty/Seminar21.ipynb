{
 "cells": [
  {
   "cell_type": "markdown",
   "metadata": {
    "slideshow": {
     "slide_type": "slide"
    }
   },
   "source": [
    "# Семинар 21\n",
    "# Метод штрафов и модифицированной функции Лагранжа"
   ]
  },
  {
   "cell_type": "markdown",
   "metadata": {
    "slideshow": {
     "slide_type": "slide"
    }
   },
   "source": [
    "## На прошлом семинаре\n",
    "\n",
    "- Методы внутренней точки\n",
    "- Метод внутренних барьеров (логарифмических)\n",
    "- Прямо-двойственный метод"
   ]
  },
  {
   "cell_type": "markdown",
   "metadata": {
    "slideshow": {
     "slide_type": "slide"
    }
   },
   "source": [
    "## Метод внешних штрафов\n",
    "\n",
    "**Идея:** если внутренние штрафы (барьеры) предотвращали выход точки из множества, то внешние штрафы существенно увеличивают целевую функцию при выходе точки из множества, но позволяют этом случиться."
   ]
  },
  {
   "cell_type": "markdown",
   "metadata": {
    "collapsed": true,
    "slideshow": {
     "slide_type": "slide"
    }
   },
   "source": [
    "## Задача с ограничениями-равенствами\n",
    "\n",
    "\\begin{equation*}\n",
    "\\begin{split}\n",
    "& \\min f(x)\\\\\n",
    "\\text{s.t. } & g_i(x) = 0, \\; i=1,\\ldots,m\n",
    "\\end{split}\n",
    "\\end{equation*}"
   ]
  },
  {
   "cell_type": "markdown",
   "metadata": {
    "collapsed": true,
    "slideshow": {
     "slide_type": "slide"
    }
   },
   "source": [
    "### Квадратичная штрафная функция\n",
    "Исходную задачу можно преобразовать к задаче безусловной оптимизации\n",
    "$$\n",
    "\\min_x Q(x, \\mu),\n",
    "$$\n",
    "где \n",
    "\n",
    "$$\n",
    "Q(x, \\mu) = f(x) + \\frac{\\mu}{2}\\sum\\limits_{i=1}^mg^2_i(x), \\quad \\mu > 0\n",
    "$$\n",
    "- Если ограничение не выполняется, то значение целевой функции увеличивается пропорционально парамеру $\\mu$\n",
    "- При увеличении параметра $\\mu$, решение задачи всё точнее и точнее удовлетворяет ограничениям\n",
    "- "
   ]
  },
  {
   "cell_type": "markdown",
   "metadata": {
    "slideshow": {
     "slide_type": "slide"
    }
   },
   "source": [
    "### Общая схема\n",
    "\n",
    "```python\n",
    "def QudraticPenaltyEquality(Q, gradQ, x0, get_mu, get_tau, **kwargs):\n",
    "    while True:\n",
    "        # Stop when norm of gardient of Q is less than current tau\n",
    "        x = MinimizeQ(Q, gradQ, x0, get_tau)\n",
    "        if global_cnvergence(x, Q, **kwargs):\n",
    "            break\n",
    "        mu = get_mu()\n",
    "        Q, gradQ = UpdateQ(mu)\n",
    "        x0 = UpdateStartPoint(x, Q)\n",
    "    return x\n",
    "```\n",
    "\n",
    "- Параметр $\\mu$ нужно изменять в завивимость от сложности решения подзадачи: если известно, что задача решается долго, то $\\mu$ нужно увеличивать плавно, например $\\mu_{k+1} = 2\\mu_k$. Eсли подзадача решается быстро, то можно более резко увеличивать $\\mu$: $\\mu_{k+1} = 15\\mu_k$.\n",
    "- При увеличении $\\mu$ решение подзадачи становится сложнее из-за плохой обусловленности гессиана. Об этом подробнее ниже."
   ]
  },
  {
   "cell_type": "markdown",
   "metadata": {
    "collapsed": true,
    "slideshow": {
     "slide_type": "slide"
    }
   },
   "source": [
    "### Сходимость\n",
    "\n",
    "**Теорема.** Пусть для каждого $\\mu$ безусловная задача имеет конечное глобальное решение. Тогда предельная точка последовательности решений безусловных задач при $\\mu \\to \\infty$ сходится к глобальному решению исходной задачи.\n",
    "\n",
    "- Проблема: глобальный оптимум для каждой подзадачи не всегда может быть достигнут!\n",
    "\n",
    "**Теорема.** Пусть $\\tau_k \\to 0$ и $\\mu_k \\to \\infty$ и $\\| Q'(x^*_k, \\mu_k) \\| \\leq \\tau_k$. Тогда \n",
    "- если $x^*_k \\to x^*$ и $x^*$ - недопустима, то $x^*$ стационарная точка функции $\\| g(x) \\|^2_2$;\n",
    "- если $x^*$ - допустима и градиенты ограничений в этой точке линейно независимы, тогда $x^*$ - точка в которой выполнены KKT.\n",
    "\n",
    "Для любой подпоследовательности $x^*_k \\to x^*, \\; k \\in \\mathcal{C}$ точек выполнено\n",
    "$$\n",
    "\\lim_{k \\in \\mathcal{C}} -\\mu_k g_i(x_k) = \\lambda_i^*\n",
    "$$\n",
    "для всех $i = 1,\\ldots,m$, где $\\lambda_i^*$ множители Лагранжа, удовлетсворяющие ККТ."
   ]
  },
  {
   "cell_type": "markdown",
   "metadata": {
    "collapsed": true,
    "slideshow": {
     "slide_type": "slide"
    }
   },
   "source": [
    "### Вырожденность гессиана\n",
    "\n"
   ]
  },
  {
   "cell_type": "code",
   "execution_count": null,
   "metadata": {
    "collapsed": true
   },
   "outputs": [],
   "source": []
  },
  {
   "cell_type": "code",
   "execution_count": null,
   "metadata": {
    "collapsed": true
   },
   "outputs": [],
   "source": []
  },
  {
   "cell_type": "markdown",
   "metadata": {
    "collapsed": true,
    "slideshow": {
     "slide_type": "slide"
    }
   },
   "source": [
    "## Задача с ограничениями типа равенств и неравенств\n",
    "\n",
    "\\begin{equation*}\n",
    "\\begin{split}\n",
    "& \\min f(x)\\\\\n",
    "\\text{s.t. } & g_i(x) = 0, \\; i=1,\\ldots,m \\\\\n",
    "& h_j(x) \\leq 0, \\; j = 1,\\ldots,p\n",
    "\\end{split}\n",
    "\\end{equation*}"
   ]
  },
  {
   "cell_type": "markdown",
   "metadata": {
    "collapsed": true,
    "slideshow": {
     "slide_type": "slide"
    }
   },
   "source": [
    "### Штрафная функция\n",
    "\n",
    "$$\n",
    "\\min f(x) + \\frac{\\mu}{2}\\sum\\limits_{i=1}^mg^2_i(x) + \\frac{\\mu}{2}\\sum\\limits_{j=1}^p (\\max(0, h_j(x)))^2,\n",
    "$$\n",
    "где $\\mu > 0$\n",
    "- Отличие от задачи без ограничений-неравенств: вторая производная штрафной функции разврывна и, как следствие, штрафная функция уже не дважды непрерывно дифференцируемая"
   ]
  },
  {
   "cell_type": "markdown",
   "metadata": {
    "collapsed": true,
    "slideshow": {
     "slide_type": "slide"
    }
   },
   "source": [
    "## Метод модифицированной функции Лагранжа\n",
    "\n",
    "**Идея:** добавлять штраф не к целевой функции, а к функции Лагранжа. Аналог прямо-двойственного метода."
   ]
  },
  {
   "cell_type": "code",
   "execution_count": null,
   "metadata": {
    "collapsed": true
   },
   "outputs": [],
   "source": []
  },
  {
   "cell_type": "code",
   "execution_count": null,
   "metadata": {
    "collapsed": true
   },
   "outputs": [],
   "source": []
  },
  {
   "cell_type": "code",
   "execution_count": null,
   "metadata": {
    "collapsed": true
   },
   "outputs": [],
   "source": []
  },
  {
   "cell_type": "code",
   "execution_count": null,
   "metadata": {
    "collapsed": true
   },
   "outputs": [],
   "source": []
  },
  {
   "cell_type": "markdown",
   "metadata": {
    "slideshow": {
     "slide_type": "slide"
    }
   },
   "source": [
    "## Резюме\n",
    "\n",
    "- Метод внешних штрафов\n",
    "- Метод модифицированной функции Лагранжа"
   ]
  }
 ],
 "metadata": {
  "celltoolbar": "Slideshow",
  "kernelspec": {
   "display_name": "Python [conda env:cvxpy]",
   "language": "python",
   "name": "conda-env-cvxpy-py"
  },
  "language_info": {
   "codemirror_mode": {
    "name": "ipython",
    "version": 2
   },
   "file_extension": ".py",
   "mimetype": "text/x-python",
   "name": "python",
   "nbconvert_exporter": "python",
   "pygments_lexer": "ipython2",
   "version": "2.7.13"
  }
 },
 "nbformat": 4,
 "nbformat_minor": 2
}
