{
 "cells": [
  {
   "cell_type": "markdown",
   "metadata": {
    "slideshow": {
     "slide_type": "slide"
    }
   },
   "source": [
    "# Семинар 17.\n",
    "\n",
    "# Линейное программирование. Симплекс-метод"
   ]
  },
  {
   "cell_type": "markdown",
   "metadata": {
    "slideshow": {
     "slide_type": "slide"
    }
   },
   "source": [
    "## Текущее место в программе\n",
    "\n",
    "- Безусловная оптимизация\n",
    "    - ~~Одномерная минимизация~~\n",
    "    - ~~Градиентный спуск~~\n",
    "    - ~~Метод Ньютона и квазиньютоновские методы~~\n",
    "    - ~~Метод сопряжённых градиентов~~\n",
    "- Условная оптимизация\n",
    "    - <span style=\"color:red\">Линейное программирование: симплекс-метод</span>\n",
    "    - Линейное программирование: прямо-двойственный метод\n",
    "    - Методы проекции градиента и условного градиента\n",
    "    - Методы штрафов и барьеров\n",
    "    - Метод модифицированной функции Лагранжа\n",
    "    - Последовательное квадратичное программирование\n",
    "- Разные темы\n",
    "    - ~~Задача наименьших квадратов~~\n",
    "    - Проксимальные методы\n",
    "    - Оптимальные методы и нижние оценки\n",
    "    - Зеркальный спуск\n",
    "    - Обзор стохастических методов"
   ]
  },
  {
   "cell_type": "markdown",
   "metadata": {
    "collapsed": true,
    "slideshow": {
     "slide_type": "slide"
    }
   },
   "source": [
    "## Постановка задачи\n",
    "\n",
    "- Стандартная форма\n",
    "\\begin{equation*}\n",
    "\\begin{split}\n",
    "&\\min_x c^{\\top}x \\\\\n",
    "\\text{s.t. } & Ax \\leq b\\\\\n",
    "& x_i \\geq 0, \\; i = 1,\\dots, n\n",
    "\\end{split}\n",
    "\\end{equation*}\n",
    "- Каноническая форма\n",
    "\\begin{equation*}\n",
    "\\begin{split}\n",
    "&\\min_x c^{\\top}x \\\\\n",
    "\\text{s.t. } & Ax = b\\\\\n",
    "& x_i \\geq 0, \\; i = 1,\\dots, n\n",
    "\\end{split}\n",
    "\\end{equation*}"
   ]
  },
  {
   "cell_type": "markdown",
   "metadata": {
    "slideshow": {
     "slide_type": "slide"
    }
   },
   "source": [
    "### Преобразование постановок"
   ]
  },
  {
   "cell_type": "markdown",
   "metadata": {
    "collapsed": true,
    "slideshow": {
     "slide_type": "fragment"
    }
   },
   "source": [
    "- $Ax = b \\equiv \n",
    "\\begin{cases}\n",
    "Ax \\leq b\\\\\n",
    "Ax \\geq b\n",
    "\\end{cases}\n",
    "$\n",
    "- $Ax \\leq b \\equiv \n",
    "\\begin{cases}\n",
    "Ax + z =  b\\\\\n",
    "z \\geq 0\n",
    "\\end{cases}$ \n",
    "- свободная переменная $x \\equiv \n",
    "\\begin{cases}\n",
    "x = u - v\\\\\n",
    "u \\geq 0, \\; v \\geq 0\n",
    "\\end{cases}$"
   ]
  },
  {
   "cell_type": "markdown",
   "metadata": {
    "slideshow": {
     "slide_type": "slide"
    }
   },
   "source": [
    "## Приложения\n",
    "\n",
    "- Потоки в сетях\n",
    "- "
   ]
  },
  {
   "cell_type": "markdown",
   "metadata": {
    "collapsed": true,
    "slideshow": {
     "slide_type": "slide"
    }
   },
   "source": [
    "### Примеры"
   ]
  },
  {
   "cell_type": "markdown",
   "metadata": {
    "collapsed": true,
    "slideshow": {
     "slide_type": "slide"
    }
   },
   "source": [
    "## Алгебраическая vs. геометрическая точка зрения"
   ]
  },
  {
   "cell_type": "markdown",
   "metadata": {
    "slideshow": {
     "slide_type": "slide"
    }
   },
   "source": [
    "### Определения"
   ]
  },
  {
   "cell_type": "markdown",
   "metadata": {
    "slideshow": {
     "slide_type": "slide"
    }
   },
   "source": [
    "### Всегда ли есть вершины?"
   ]
  },
  {
   "cell_type": "markdown",
   "metadata": {
    "slideshow": {
     "slide_type": "slide"
    }
   },
   "source": [
    "### Где искать решение?"
   ]
  },
  {
   "cell_type": "markdown",
   "metadata": {
    "slideshow": {
     "slide_type": "slide"
    }
   },
   "source": [
    "### А есть ли решение?"
   ]
  },
  {
   "cell_type": "markdown",
   "metadata": {
    "slideshow": {
     "slide_type": "slide"
    }
   },
   "source": [
    "## Симплекс-метод"
   ]
  },
  {
   "cell_type": "markdown",
   "metadata": {
    "slideshow": {
     "slide_type": "slide"
    }
   },
   "source": [
    "### Схема"
   ]
  },
  {
   "cell_type": "markdown",
   "metadata": {
    "slideshow": {
     "slide_type": "slide"
    }
   },
   "source": [
    "## Реализация"
   ]
  },
  {
   "cell_type": "markdown",
   "metadata": {
    "slideshow": {
     "slide_type": "slide"
    }
   },
   "source": [
    "## Узкие места"
   ]
  },
  {
   "cell_type": "markdown",
   "metadata": {
    "slideshow": {
     "slide_type": "slide"
    }
   },
   "source": [
    "## Сложность"
   ]
  },
  {
   "cell_type": "markdown",
   "metadata": {
    "slideshow": {
     "slide_type": "fragment"
    }
   },
   "source": [
    "- Было показано, что в худшем случае время работы симплекс-метод <span style=\"color:red\"> **экспоненциально**</span> зависит от размерности задачи!\n",
    "- Однако на практике сложность чаще всего пропорциональна количеству ограничений и симплекс-метод сходится быстро\n",
    "- Почему это так до конца не ясно до сих пор"
   ]
  },
  {
   "cell_type": "markdown",
   "metadata": {
    "collapsed": true,
    "slideshow": {
     "slide_type": "slide"
    }
   },
   "source": [
    "### Пример Klee, Minty (1972) [[1]](https://en.wikipedia.org/wiki/Klee–Minty_cube)\n",
    "\n",
    "В задаче\n",
    "\\begin{equation*}\n",
    "\\begin{split}\n",
    "& \\min_x 2^{n-1}x_1 + 2^{n-2}x_2 + \\dots + 2x_{n-1} + x_n\\\\\n",
    "\\text{s.t. } & x_1 \\leq 5\\\\\n",
    "& 4x_1 + x_2 \\leq 25\\\\\n",
    "& 8x_1 + 4x_2 + x_3 \\leq 125\\\\\n",
    "& \\ldots\\\\\n",
    "& 2^n x_1 + 2^{n-1}x_2 + 2^{n-2}x_3 + \\ldots + x_n \\leq 5^n\\\\\n",
    "& x \\geq 0\n",
    "\\end{split}\n",
    "\\end{equation*}\n",
    "начиная с точки $x_0 = 0$ и следуя симплекс-методу, необходимо обойти $2^n - 1$ вершину.\n",
    "\n",
    "**Упражнение**: решите эту задачу для $n = 2$ и $n = 3$, и обобщите результат, получив решение для произвольного $n$."
   ]
  },
  {
   "cell_type": "code",
   "execution_count": null,
   "metadata": {
    "collapsed": true
   },
   "outputs": [],
   "source": []
  },
  {
   "cell_type": "code",
   "execution_count": null,
   "metadata": {
    "collapsed": true
   },
   "outputs": [],
   "source": []
  },
  {
   "cell_type": "code",
   "execution_count": null,
   "metadata": {
    "collapsed": true
   },
   "outputs": [],
   "source": []
  }
 ],
 "metadata": {
  "anaconda-cloud": {},
  "celltoolbar": "Slideshow",
  "kernelspec": {
   "display_name": "Python [conda env:cvxpy]",
   "language": "python",
   "name": "conda-env-cvxpy-py"
  },
  "language_info": {
   "codemirror_mode": {
    "name": "ipython",
    "version": 2
   },
   "file_extension": ".py",
   "mimetype": "text/x-python",
   "name": "python",
   "nbconvert_exporter": "python",
   "pygments_lexer": "ipython2",
   "version": "2.7.13"
  }
 },
 "nbformat": 4,
 "nbformat_minor": 1
}
