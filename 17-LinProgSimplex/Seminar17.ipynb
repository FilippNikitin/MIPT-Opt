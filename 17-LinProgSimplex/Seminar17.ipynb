{
 "cells": [
  {
   "cell_type": "markdown",
   "metadata": {
    "slideshow": {
     "slide_type": "slide"
    }
   },
   "source": [
    "# Семинар 17.\n",
    "\n",
    "# Линейное программирование. Симплекс-метод"
   ]
  },
  {
   "cell_type": "markdown",
   "metadata": {
    "slideshow": {
     "slide_type": "slide"
    }
   },
   "source": [
    "## Текущее место в программе\n",
    "\n",
    "- Безусловная оптимизация\n",
    "    - ~~Одномерная минимизация~~\n",
    "    - ~~Градиентный спуск~~\n",
    "    - ~~Метод Ньютона и квазиньютоновские методы~~\n",
    "    - ~~Метод сопряжённых градиентов~~\n",
    "- Условная оптимизация\n",
    "    - <span style=\"color:red\">Линейное программирование: симплекс-метод</span>\n",
    "    - Линейное программирование: прямо-двойственный метод\n",
    "    - Методы проекции градиента и условного градиента\n",
    "    - Методы штрафов и барьеров\n",
    "    - Метод модифицированной функции Лагранжа\n",
    "    - Последовательное квадратичное программирование\n",
    "- Разные темы\n",
    "    - ~~Задача наименьших квадратов~~\n",
    "    - Проксимальные методы\n",
    "    - Оптимальные методы и нижние оценки\n",
    "    - Зеркальный спуск\n",
    "    - Обзор стохастических методов"
   ]
  },
  {
   "cell_type": "markdown",
   "metadata": {
    "collapsed": true,
    "slideshow": {
     "slide_type": "slide"
    }
   },
   "source": [
    "## Постановка задачи\n",
    "Даны векторы $x, c \\in \\mathbb{R}^n$, $b \\in \\mathbb{R}^m$ и матрица $A \\in \\mathbb{R}^{m \\times n}$ такая что $m < n$ и $\\mathrm{rank}(A) = m$ \n",
    "- Стандартная форма\n",
    "\\begin{equation*}\n",
    "\\begin{split}\n",
    "&\\min_x c^{\\top}x \\\\\n",
    "\\text{s.t. } & Ax \\leq b\\\\\n",
    "& x_i \\geq 0, \\; i = 1,\\dots, n\n",
    "\\end{split}\n",
    "\\end{equation*}\n",
    "- Каноническая форма (везде далее рассматривается именно она)\n",
    "\\begin{equation*}\n",
    "\\begin{split}\n",
    "&\\min_x c^{\\top}x \\\\\n",
    "\\text{s.t. } & Ax = b\\\\\n",
    "& x_i \\geq 0, \\; i = 1,\\dots, n\n",
    "\\end{split}\n",
    "\\end{equation*}"
   ]
  },
  {
   "cell_type": "markdown",
   "metadata": {
    "slideshow": {
     "slide_type": "slide"
    }
   },
   "source": [
    "### Преобразование постановок"
   ]
  },
  {
   "cell_type": "markdown",
   "metadata": {
    "collapsed": true,
    "slideshow": {
     "slide_type": "fragment"
    }
   },
   "source": [
    "- $Ax = b \\equiv \n",
    "\\begin{cases}\n",
    "Ax \\leq b\\\\\n",
    "Ax \\geq b\n",
    "\\end{cases}\n",
    "$\n",
    "- $Ax \\leq b \\equiv \n",
    "\\begin{cases}\n",
    "Ax + z =  b\\\\\n",
    "z \\geq 0\n",
    "\\end{cases}$ \n",
    "- свободная переменная $x \\equiv \n",
    "\\begin{cases}\n",
    "x = u - v\\\\\n",
    "u \\geq 0, \\; v \\geq 0\n",
    "\\end{cases}$"
   ]
  },
  {
   "cell_type": "markdown",
   "metadata": {
    "slideshow": {
     "slide_type": "slide"
    }
   },
   "source": [
    "## Приложения\n",
    "\n",
    "- Потоки в сетях\n",
    "- "
   ]
  },
  {
   "cell_type": "markdown",
   "metadata": {
    "slideshow": {
     "slide_type": "slide"
    }
   },
   "source": [
    "## Какой ответ может дать алгоритм?\n",
    "\n",
    "- Задача разрешима и точка минимума $x^*$\n",
    "- Задача неограничена и минимальное значение равно $-\\infty$\n",
    "- Задача неразрешима, то есть допустимое множество пусто"
   ]
  },
  {
   "cell_type": "markdown",
   "metadata": {
    "slideshow": {
     "slide_type": "slide"
    }
   },
   "source": [
    "## Предварительные соображения\n",
    "\n",
    "- Задача линейного программирования - это поиск минимума линейной функции на многомерном многоугольнике"
   ]
  },
  {
   "cell_type": "markdown",
   "metadata": {
    "slideshow": {
     "slide_type": "fragment"
    }
   },
   "source": [
    "**Вопросы:**\n",
    "\n",
    "- при каких условиях есть решение?\n",
    "- среди каких точек искать решение?\n",
    "- как именно искать решение?"
   ]
  },
  {
   "cell_type": "markdown",
   "metadata": {
    "slideshow": {
     "slide_type": "slide"
    }
   },
   "source": [
    "## Определения\n",
    "\n",
    "1. Tочка из допустимого множества называется *вершиной многоугольника*, если она не лежит на отрезке между двумя другими точками многоугольника.\n",
    "2. Точка $x$ называется *угловой точкой* многоугольника, если\n",
    "    - она лежит в множестве\n",
    "    - существуте такое множество $\\mathcal{B} \\subset \\{1, \\dots, n \\}$, что \n",
    "        - $|\\mathcal{B}| = m$\n",
    "        - $i \\notin \\mathcal{B} \\Rightarrow x_i = 0$\n",
    "        - матрица $B = [a_i]_{i \\in \\mathcal{B}}$ невырождена, где $a_i$ - $i$-ый столбец матрицы $A$. Матрица $B$ называется *матрицей базиса*"
   ]
  },
  {
   "cell_type": "markdown",
   "metadata": {
    "slideshow": {
     "slide_type": "fragment"
    }
   },
   "source": [
    "**Теорема** Все угловые точки являются вершинами соответствущего многоугольника."
   ]
  },
  {
   "cell_type": "markdown",
   "metadata": {
    "slideshow": {
     "slide_type": "slide"
    }
   },
   "source": [
    "## Фундаментальна теорема линейного программирования\n",
    "\n",
    "1. Если в задаче линейного програмирования допустимое множество непусто, тогда оно имеет как минимум одну угловую точку.\n",
    "2. Если задача линейного программирования имеет решения, тогда хотя бы одно из них является угловой точкой.\n",
    "3. Если задача линейного программирования ограничена и допустимое множество непусто, тогда она имеет оптимальное решение."
   ]
  },
  {
   "cell_type": "markdown",
   "metadata": {
    "slideshow": {
     "slide_type": "slide"
    }
   },
   "source": [
    "## Симплекс-метод\n",
    "\n",
    "- Симплекс-метод [придумал](https://www.rand.org/pubs/reports/R366.html) Дж. Данциг в 1947.\n",
    "- Его появление совпало с развитием компьютеров и явилось одним из первых доказательств их полезности\n",
    "- Имел большой успех в связи с многочисленными приложениями в экономике и планировании производства\n",
    "- Включён в [список](http://www.uta.edu/faculty/rcli/TopTen/topten.pdf) лучших алгоритмов XX века по версии редакторов SIAM"
   ]
  },
  {
   "cell_type": "markdown",
   "metadata": {
    "slideshow": {
     "slide_type": "slide"
    }
   },
   "source": [
    "### Общая схема\n",
    "\n",
    "1. Находим угловую точку допустимого множества\n",
    "2. Переходим в сопряжённую ей угловую точку так, чтобы целевая функция уменьшалась\n",
    "3. Если можно дальше уменьшить значение целевой функции, переходим в следующую угловую точку"
   ]
  },
  {
   "cell_type": "markdown",
   "metadata": {},
   "source": [
    "### Детали\n"
   ]
  },
  {
   "cell_type": "markdown",
   "metadata": {
    "slideshow": {
     "slide_type": "slide"
    }
   },
   "source": [
    "## Узкие места"
   ]
  },
  {
   "cell_type": "markdown",
   "metadata": {
    "slideshow": {
     "slide_type": "slide"
    }
   },
   "source": [
    "## Сложность"
   ]
  },
  {
   "cell_type": "markdown",
   "metadata": {
    "slideshow": {
     "slide_type": "fragment"
    }
   },
   "source": [
    "- Было показано, что в худшем случае время работы симплекс-метод <span style=\"color:red\"> **экспоненциально**</span> зависит от размерности задачи!\n",
    "- Однако на практике сложность чаще всего пропорциональна количеству ограничений и симплекс-метод сходится быстро\n",
    "- Почему это так до конца не ясно до сих пор"
   ]
  },
  {
   "cell_type": "markdown",
   "metadata": {
    "collapsed": true,
    "slideshow": {
     "slide_type": "slide"
    }
   },
   "source": [
    "### Пример Klee, Minty (1972) [[1]](https://en.wikipedia.org/wiki/Klee–Minty_cube)\n",
    "\n",
    "В задаче\n",
    "\\begin{equation*}\n",
    "\\begin{split}\n",
    "& \\min_x 2^{n-1}x_1 + 2^{n-2}x_2 + \\dots + 2x_{n-1} + x_n\\\\\n",
    "\\text{s.t. } & x_1 \\leq 5\\\\\n",
    "& 4x_1 + x_2 \\leq 25\\\\\n",
    "& 8x_1 + 4x_2 + x_3 \\leq 125\\\\\n",
    "& \\ldots\\\\\n",
    "& 2^n x_1 + 2^{n-1}x_2 + 2^{n-2}x_3 + \\ldots + x_n \\leq 5^n\\\\\n",
    "& x \\geq 0\n",
    "\\end{split}\n",
    "\\end{equation*}\n",
    "начиная с точки $x_0 = 0$ и следуя симплекс-методу, необходимо обойти $2^n - 1$ вершину.\n",
    "\n",
    "**Упражнение**: решите эту задачу для $n = 2$ и $n = 3$, и обобщите результат, получив решение для произвольного $n$."
   ]
  },
  {
   "cell_type": "code",
   "execution_count": null,
   "metadata": {
    "collapsed": true
   },
   "outputs": [],
   "source": []
  },
  {
   "cell_type": "code",
   "execution_count": null,
   "metadata": {
    "collapsed": true
   },
   "outputs": [],
   "source": []
  },
  {
   "cell_type": "code",
   "execution_count": null,
   "metadata": {
    "collapsed": true
   },
   "outputs": [],
   "source": []
  }
 ],
 "metadata": {
  "anaconda-cloud": {},
  "celltoolbar": "Slideshow",
  "kernelspec": {
   "display_name": "Python [conda env:cvxpy]",
   "language": "python",
   "name": "conda-env-cvxpy-py"
  },
  "language_info": {
   "codemirror_mode": {
    "name": "ipython",
    "version": 2
   },
   "file_extension": ".py",
   "mimetype": "text/x-python",
   "name": "python",
   "nbconvert_exporter": "python",
   "pygments_lexer": "ipython2",
   "version": "2.7.13"
  }
 },
 "nbformat": 4,
 "nbformat_minor": 1
}
