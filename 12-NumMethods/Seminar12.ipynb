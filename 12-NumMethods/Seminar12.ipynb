{
 "cells": [
  {
   "cell_type": "markdown",
   "metadata": {
    "nbpresent": {
     "id": "196b8a50-3d29-45c3-82b9-f4a09b49491d"
    },
    "slideshow": {
     "slide_type": "slide"
    }
   },
   "source": [
    "# Семинар 12\n",
    "\n",
    "# Введение в численные методы оптимизации \n",
    "\n",
    " 1. Обзор материала весеннего семестра\n",
    " 2. Постановка задачи\n",
    " 3. Общая схема решения\n",
    " 4. Сравнение методов оптимизации\n",
    " 5. Методы одномерной минимизации\n"
   ]
  },
  {
   "cell_type": "markdown",
   "metadata": {
    "nbpresent": {
     "id": "2a573842-172b-4931-b0dd-9c9d3c47a450"
    },
    "slideshow": {
     "slide_type": "slide"
    }
   },
   "source": [
    "## Обзор материала весеннего семестра\n",
    "\n",
    "Также на [странице курса](https://github.com/amkatrutsa/MIPT-Opt#Весенний-семестр).\n",
    "\n",
    "1. Методы решения задач **безусловной** оптимизации\n",
    "    - Одномерная минимизация (уже сегодня!)\n",
    "    - Градиентный спуск\n",
    "    - Метод Ньютона\n",
    "    - Квазиньютоновские методы\n",
    "    - Метод сопряжённых градиентов  \n",
    "    - Опционально:\n",
    "        - Решение задачи наименьших квадратов\n",
    "        - Оптимальные методы и нижние оценки\n",
    "2. Методы решения задач **условной** оптимизации\n",
    "    - Линейное программирование\n",
    "    - Методы проекции градиента и условного градиента\n",
    "    - Методы штрафных и барьерных функций\n",
    "    - Метод модифицированой функции Лагранжа"
   ]
  },
  {
   "cell_type": "markdown",
   "metadata": {
    "slideshow": {
     "slide_type": "slide"
    }
   },
   "source": [
    "## Организация работы в семестре\n",
    "\n",
    "1. Семинар и лекция раз в неделю\n",
    "2. Два задания в течение семестра\n",
    "3. Итоговая контрольная в конце семестра\n",
    "4. Экзамен в конце семестра (схема выставлении оценки будет объявлена позже)\n",
    "5. Миниконтрольные в начале каждого семинара\n",
    "6. Домашнее задание почти каждую неделю: $\\TeX$ или Jupyter Notebook"
   ]
  },
  {
   "cell_type": "markdown",
   "metadata": {
    "slideshow": {
     "slide_type": "slide"
    }
   },
   "source": [
    "## Постановка задачи\n",
    "\n",
    "\\begin{equation}\n",
    "\\begin{split}\n",
    "& \\min_{x \\in S} f_0(x)\\\\\n",
    "\\text{s.t. } & f_j(x) = 0, \\; j = 1,\\ldots,m\\\\\n",
    "& g_k(x) \\leq 0, \\; k = 1,\\ldots,p\n",
    "\\end{split}\n",
    "\\end{equation}\n",
    "где $S \\subseteq \\mathbb{R}^n$, $f_j: S \\rightarrow \\mathbb{R}, \\; j = 0,\\ldots,m$, $g_k: S \\rightarrow \\mathbb{R}, \\; k=1,\\ldots,p$\n",
    "\n",
    "<span style=\"color:red;\"> \n",
    "Важный факт</span>: задачи **нелинейной** оптимизации в их самой общей форме являются **численно неразрешимыми**!"
   ]
  },
  {
   "cell_type": "markdown",
   "metadata": {
    "slideshow": {
     "slide_type": "slide"
    }
   },
   "source": [
    "## Аналитические результаты\n",
    "- Необходимое условие первого порядка: если $x^*$ точка локального минимума дифференцируемой функции $f(x)$, тогда $$\n",
    "f'(x^*) = 0\n",
    "$$\n",
    "- Необходимое условие второго порядка: если $x^*$ точка локального минимума дважды дифференцируемой функции $f(x)$, тогда \n",
    "$$\n",
    "f'(x^*) = 0 \\quad \\text{и} \\quad f''(x^*) \\succeq 0\n",
    "$$\n",
    "- Достаточное условие: пусть $f(x)$ дважды дифференцируемая функция, и пусть точка $x^*$ удовлетворяет условиям\n",
    "$$\n",
    "f'(x^*) = 0 \\quad f''(x^*) \\succ 0,\n",
    "$$\n",
    "тогда $x^*$ является точкой строго локального минимума функции $f(x)$.\n",
    "\n",
    "**Замечание**: убедитесь, что Вы понимаете, как доказывать эти результаты!"
   ]
  },
  {
   "cell_type": "markdown",
   "metadata": {
    "slideshow": {
     "slide_type": "slide"
    }
   },
   "source": [
    "## Особенности численного решения\n",
    "\n",
    "1. Точно решить задачу принципиально невозможно из-за погрешности машинной арифметики\n",
    "2. Необходимо задать критерий обнаружения решения\n",
    "3. Необходимо определить, какую информацию о задаче использовать"
   ]
  },
  {
   "cell_type": "markdown",
   "metadata": {
    "slideshow": {
     "slide_type": "slide"
    }
   },
   "source": [
    "## Общая итеративная схема\n",
    "\n",
    "Дано: начальное приближение $x$, требуемая точность $\\varepsilon$.\n",
    "\n",
    "```python\n",
    "def GeneralScheme(x, epsilon):\n",
    "    while stop_criterion(x) > epsilon:\n",
    "        OracleResponse = request_oracle(x)\n",
    "        update_information(I, x, OracleResponse)\n",
    "        x = next_point(I, x)\n",
    "    return x\n",
    "```"
   ]
  },
  {
   "cell_type": "markdown",
   "metadata": {
    "slideshow": {
     "slide_type": "slide"
    }
   },
   "source": [
    "### Вопросы\n",
    "1. Какие критерии основа могут быть?\n",
    "2. Что такое оракул и зачем он нужен?\n",
    "3. Что такое информационная модель?\n",
    "4. Как вычисляется новая точка?"
   ]
  },
  {
   "cell_type": "markdown",
   "metadata": {
    "slideshow": {
     "slide_type": "slide"
    }
   },
   "source": [
    "#### Критерии останова\n",
    "1. Сходимость по аргументу: \n",
    "$$\n",
    "\\| x_k - x^*  \\|_2 < \\varepsilon\n",
    "$$ \n",
    "2. Сходимость по функционалу: \n",
    "$$\n",
    "\\| f_k - f^* \\|_2 < \\varepsilon\n",
    "$$ \n",
    "3. Выполнение необходимого условия для дифференцируемой функции \n",
    "$$\n",
    "\\| f'(x_k) \\|_2 < \\varepsilon\n",
    "$$\n",
    "\n",
    "**Замечание**: лучше использовать относительные изменения этих величин!"
   ]
  },
  {
   "cell_type": "markdown",
   "metadata": {
    "slideshow": {
     "slide_type": "slide"
    }
   },
   "source": [
    "#### Что такое оракул?\n",
    "**Определение**: оракулом называют некоторое абстрактное устройство, которое отвечает на последовательные вопросы метода\n",
    "\n",
    "**Концепция чёрного ящика**\n",
    "1. Единственной информацией, получаемой в ходе работы итеративного метода, являются ответы оракула\n",
    "2. Ответы оракула являются *локальными*"
   ]
  },
  {
   "cell_type": "markdown",
   "metadata": {
    "slideshow": {
     "slide_type": "slide"
    }
   },
   "source": [
    "#### Информация о задаче\n",
    "1. Каждый ответ оракула даёт локальную информацию о поведении функции в точке\n",
    "2. Агрегируя все полученные ответы оракула, обновляем информацию о глобальном виде целевой функции:\n",
    "    - кривизна\n",
    "    - направление убывания\n",
    "    - etc"
   ]
  },
  {
   "cell_type": "markdown",
   "metadata": {
    "slideshow": {
     "slide_type": "slide"
    }
   },
   "source": [
    "#### Вычисление следующей точки\n",
    "\n",
    "Стандартная схема вычисления следующей точки:\n",
    "$$\n",
    "x_{k+1} = x_{k} + \\alpha_k h_k\n",
    "$$\n",
    "Вопросы:\n",
    "1. Как выбирать $\\alpha_k$?\n",
    "2. Как выбирать $h_k$?"
   ]
  },
  {
   "cell_type": "markdown",
   "metadata": {
    "slideshow": {
     "slide_type": "slide"
    }
   },
   "source": [
    "## Как сравнивать методы оптимизации?\n",
    "1. Сложность\n",
    "    - аналитическая: число обращений к оракулу для решения задачи с точностью $\\varepsilon$\n",
    "    - арифметическая: общее число всех вычислений, необходимых для решения задачи с точностью $\\varepsilon$\n",
    "2. Скорость сходимости\n",
    "3. Эксперименты"
   ]
  },
  {
   "cell_type": "markdown",
   "metadata": {
    "slideshow": {
     "slide_type": "slide"
    }
   },
   "source": [
    "### Скорости сходимости \n",
    "1. Сублинейная\n",
    "$$\n",
    "\\| x_k - x^* \\|_2 \\leq C k^{\\alpha},\n",
    "$$\n",
    "где $\\alpha < 0$ и $ 0 < C < \\infty$\n",
    "2. Линейная (геометрическая прогрессия)\n",
    "$$\n",
    "\\| x_k - x^* \\|_2 \\leq Cq^k, \n",
    "$$\n",
    "где $q \\in (0, 1)$ и $ 0 < C < \\infty$\n",
    "\n",
    "3. Квадратичная\n",
    "$$\n",
    "\\| x_{k+1} - x^* \\|_2 \\leq C\\| x_k - x^* \\|^2_2,\n",
    "$$\n",
    "где $ 0 < C < \\infty$"
   ]
  },
  {
   "cell_type": "code",
   "execution_count": 16,
   "metadata": {
    "collapsed": false,
    "slideshow": {
     "slide_type": "slide"
    }
   },
   "outputs": [
    {
     "data": {
      "application/javascript": [
       "/* Put everything inside the global mpl namespace */\n",
       "window.mpl = {};\n",
       "\n",
       "mpl.get_websocket_type = function() {\n",
       "    if (typeof(WebSocket) !== 'undefined') {\n",
       "        return WebSocket;\n",
       "    } else if (typeof(MozWebSocket) !== 'undefined') {\n",
       "        return MozWebSocket;\n",
       "    } else {\n",
       "        alert('Your browser does not have WebSocket support.' +\n",
       "              'Please try Chrome, Safari or Firefox ≥ 6. ' +\n",
       "              'Firefox 4 and 5 are also supported but you ' +\n",
       "              'have to enable WebSockets in about:config.');\n",
       "    };\n",
       "}\n",
       "\n",
       "mpl.figure = function(figure_id, websocket, ondownload, parent_element) {\n",
       "    this.id = figure_id;\n",
       "\n",
       "    this.ws = websocket;\n",
       "\n",
       "    this.supports_binary = (this.ws.binaryType != undefined);\n",
       "\n",
       "    if (!this.supports_binary) {\n",
       "        var warnings = document.getElementById(\"mpl-warnings\");\n",
       "        if (warnings) {\n",
       "            warnings.style.display = 'block';\n",
       "            warnings.textContent = (\n",
       "                \"This browser does not support binary websocket messages. \" +\n",
       "                    \"Performance may be slow.\");\n",
       "        }\n",
       "    }\n",
       "\n",
       "    this.imageObj = new Image();\n",
       "\n",
       "    this.context = undefined;\n",
       "    this.message = undefined;\n",
       "    this.canvas = undefined;\n",
       "    this.rubberband_canvas = undefined;\n",
       "    this.rubberband_context = undefined;\n",
       "    this.format_dropdown = undefined;\n",
       "\n",
       "    this.image_mode = 'full';\n",
       "\n",
       "    this.root = $('<div/>');\n",
       "    this._root_extra_style(this.root)\n",
       "    this.root.attr('style', 'display: inline-block');\n",
       "\n",
       "    $(parent_element).append(this.root);\n",
       "\n",
       "    this._init_header(this);\n",
       "    this._init_canvas(this);\n",
       "    this._init_toolbar(this);\n",
       "\n",
       "    var fig = this;\n",
       "\n",
       "    this.waiting = false;\n",
       "\n",
       "    this.ws.onopen =  function () {\n",
       "            fig.send_message(\"supports_binary\", {value: fig.supports_binary});\n",
       "            fig.send_message(\"send_image_mode\", {});\n",
       "            fig.send_message(\"refresh\", {});\n",
       "        }\n",
       "\n",
       "    this.imageObj.onload = function() {\n",
       "            if (fig.image_mode == 'full') {\n",
       "                // Full images could contain transparency (where diff images\n",
       "                // almost always do), so we need to clear the canvas so that\n",
       "                // there is no ghosting.\n",
       "                fig.context.clearRect(0, 0, fig.canvas.width, fig.canvas.height);\n",
       "            }\n",
       "            fig.context.drawImage(fig.imageObj, 0, 0);\n",
       "        };\n",
       "\n",
       "    this.imageObj.onunload = function() {\n",
       "        this.ws.close();\n",
       "    }\n",
       "\n",
       "    this.ws.onmessage = this._make_on_message_function(this);\n",
       "\n",
       "    this.ondownload = ondownload;\n",
       "}\n",
       "\n",
       "mpl.figure.prototype._init_header = function() {\n",
       "    var titlebar = $(\n",
       "        '<div class=\"ui-dialog-titlebar ui-widget-header ui-corner-all ' +\n",
       "        'ui-helper-clearfix\"/>');\n",
       "    var titletext = $(\n",
       "        '<div class=\"ui-dialog-title\" style=\"width: 100%; ' +\n",
       "        'text-align: center; padding: 3px;\"/>');\n",
       "    titlebar.append(titletext)\n",
       "    this.root.append(titlebar);\n",
       "    this.header = titletext[0];\n",
       "}\n",
       "\n",
       "\n",
       "\n",
       "mpl.figure.prototype._canvas_extra_style = function(canvas_div) {\n",
       "\n",
       "}\n",
       "\n",
       "\n",
       "mpl.figure.prototype._root_extra_style = function(canvas_div) {\n",
       "\n",
       "}\n",
       "\n",
       "mpl.figure.prototype._init_canvas = function() {\n",
       "    var fig = this;\n",
       "\n",
       "    var canvas_div = $('<div/>');\n",
       "\n",
       "    canvas_div.attr('style', 'position: relative; clear: both; outline: 0');\n",
       "\n",
       "    function canvas_keyboard_event(event) {\n",
       "        return fig.key_event(event, event['data']);\n",
       "    }\n",
       "\n",
       "    canvas_div.keydown('key_press', canvas_keyboard_event);\n",
       "    canvas_div.keyup('key_release', canvas_keyboard_event);\n",
       "    this.canvas_div = canvas_div\n",
       "    this._canvas_extra_style(canvas_div)\n",
       "    this.root.append(canvas_div);\n",
       "\n",
       "    var canvas = $('<canvas/>');\n",
       "    canvas.addClass('mpl-canvas');\n",
       "    canvas.attr('style', \"left: 0; top: 0; z-index: 0; outline: 0\")\n",
       "\n",
       "    this.canvas = canvas[0];\n",
       "    this.context = canvas[0].getContext(\"2d\");\n",
       "\n",
       "    var rubberband = $('<canvas/>');\n",
       "    rubberband.attr('style', \"position: absolute; left: 0; top: 0; z-index: 1;\")\n",
       "\n",
       "    var pass_mouse_events = true;\n",
       "\n",
       "    canvas_div.resizable({\n",
       "        start: function(event, ui) {\n",
       "            pass_mouse_events = false;\n",
       "        },\n",
       "        resize: function(event, ui) {\n",
       "            fig.request_resize(ui.size.width, ui.size.height);\n",
       "        },\n",
       "        stop: function(event, ui) {\n",
       "            pass_mouse_events = true;\n",
       "            fig.request_resize(ui.size.width, ui.size.height);\n",
       "        },\n",
       "    });\n",
       "\n",
       "    function mouse_event_fn(event) {\n",
       "        if (pass_mouse_events)\n",
       "            return fig.mouse_event(event, event['data']);\n",
       "    }\n",
       "\n",
       "    rubberband.mousedown('button_press', mouse_event_fn);\n",
       "    rubberband.mouseup('button_release', mouse_event_fn);\n",
       "    // Throttle sequential mouse events to 1 every 20ms.\n",
       "    rubberband.mousemove('motion_notify', mouse_event_fn);\n",
       "\n",
       "    rubberband.mouseenter('figure_enter', mouse_event_fn);\n",
       "    rubberband.mouseleave('figure_leave', mouse_event_fn);\n",
       "\n",
       "    canvas_div.on(\"wheel\", function (event) {\n",
       "        event = event.originalEvent;\n",
       "        event['data'] = 'scroll'\n",
       "        if (event.deltaY < 0) {\n",
       "            event.step = 1;\n",
       "        } else {\n",
       "            event.step = -1;\n",
       "        }\n",
       "        mouse_event_fn(event);\n",
       "    });\n",
       "\n",
       "    canvas_div.append(canvas);\n",
       "    canvas_div.append(rubberband);\n",
       "\n",
       "    this.rubberband = rubberband;\n",
       "    this.rubberband_canvas = rubberband[0];\n",
       "    this.rubberband_context = rubberband[0].getContext(\"2d\");\n",
       "    this.rubberband_context.strokeStyle = \"#000000\";\n",
       "\n",
       "    this._resize_canvas = function(width, height) {\n",
       "        // Keep the size of the canvas, canvas container, and rubber band\n",
       "        // canvas in synch.\n",
       "        canvas_div.css('width', width)\n",
       "        canvas_div.css('height', height)\n",
       "\n",
       "        canvas.attr('width', width);\n",
       "        canvas.attr('height', height);\n",
       "\n",
       "        rubberband.attr('width', width);\n",
       "        rubberband.attr('height', height);\n",
       "    }\n",
       "\n",
       "    // Set the figure to an initial 600x600px, this will subsequently be updated\n",
       "    // upon first draw.\n",
       "    this._resize_canvas(600, 600);\n",
       "\n",
       "    // Disable right mouse context menu.\n",
       "    $(this.rubberband_canvas).bind(\"contextmenu\",function(e){\n",
       "        return false;\n",
       "    });\n",
       "\n",
       "    function set_focus () {\n",
       "        canvas.focus();\n",
       "        canvas_div.focus();\n",
       "    }\n",
       "\n",
       "    window.setTimeout(set_focus, 100);\n",
       "}\n",
       "\n",
       "mpl.figure.prototype._init_toolbar = function() {\n",
       "    var fig = this;\n",
       "\n",
       "    var nav_element = $('<div/>')\n",
       "    nav_element.attr('style', 'width: 100%');\n",
       "    this.root.append(nav_element);\n",
       "\n",
       "    // Define a callback function for later on.\n",
       "    function toolbar_event(event) {\n",
       "        return fig.toolbar_button_onclick(event['data']);\n",
       "    }\n",
       "    function toolbar_mouse_event(event) {\n",
       "        return fig.toolbar_button_onmouseover(event['data']);\n",
       "    }\n",
       "\n",
       "    for(var toolbar_ind in mpl.toolbar_items) {\n",
       "        var name = mpl.toolbar_items[toolbar_ind][0];\n",
       "        var tooltip = mpl.toolbar_items[toolbar_ind][1];\n",
       "        var image = mpl.toolbar_items[toolbar_ind][2];\n",
       "        var method_name = mpl.toolbar_items[toolbar_ind][3];\n",
       "\n",
       "        if (!name) {\n",
       "            // put a spacer in here.\n",
       "            continue;\n",
       "        }\n",
       "        var button = $('<button/>');\n",
       "        button.addClass('ui-button ui-widget ui-state-default ui-corner-all ' +\n",
       "                        'ui-button-icon-only');\n",
       "        button.attr('role', 'button');\n",
       "        button.attr('aria-disabled', 'false');\n",
       "        button.click(method_name, toolbar_event);\n",
       "        button.mouseover(tooltip, toolbar_mouse_event);\n",
       "\n",
       "        var icon_img = $('<span/>');\n",
       "        icon_img.addClass('ui-button-icon-primary ui-icon');\n",
       "        icon_img.addClass(image);\n",
       "        icon_img.addClass('ui-corner-all');\n",
       "\n",
       "        var tooltip_span = $('<span/>');\n",
       "        tooltip_span.addClass('ui-button-text');\n",
       "        tooltip_span.html(tooltip);\n",
       "\n",
       "        button.append(icon_img);\n",
       "        button.append(tooltip_span);\n",
       "\n",
       "        nav_element.append(button);\n",
       "    }\n",
       "\n",
       "    var fmt_picker_span = $('<span/>');\n",
       "\n",
       "    var fmt_picker = $('<select/>');\n",
       "    fmt_picker.addClass('mpl-toolbar-option ui-widget ui-widget-content');\n",
       "    fmt_picker_span.append(fmt_picker);\n",
       "    nav_element.append(fmt_picker_span);\n",
       "    this.format_dropdown = fmt_picker[0];\n",
       "\n",
       "    for (var ind in mpl.extensions) {\n",
       "        var fmt = mpl.extensions[ind];\n",
       "        var option = $(\n",
       "            '<option/>', {selected: fmt === mpl.default_extension}).html(fmt);\n",
       "        fmt_picker.append(option)\n",
       "    }\n",
       "\n",
       "    // Add hover states to the ui-buttons\n",
       "    $( \".ui-button\" ).hover(\n",
       "        function() { $(this).addClass(\"ui-state-hover\");},\n",
       "        function() { $(this).removeClass(\"ui-state-hover\");}\n",
       "    );\n",
       "\n",
       "    var status_bar = $('<span class=\"mpl-message\"/>');\n",
       "    nav_element.append(status_bar);\n",
       "    this.message = status_bar[0];\n",
       "}\n",
       "\n",
       "mpl.figure.prototype.request_resize = function(x_pixels, y_pixels) {\n",
       "    // Request matplotlib to resize the figure. Matplotlib will then trigger a resize in the client,\n",
       "    // which will in turn request a refresh of the image.\n",
       "    this.send_message('resize', {'width': x_pixels, 'height': y_pixels});\n",
       "}\n",
       "\n",
       "mpl.figure.prototype.send_message = function(type, properties) {\n",
       "    properties['type'] = type;\n",
       "    properties['figure_id'] = this.id;\n",
       "    this.ws.send(JSON.stringify(properties));\n",
       "}\n",
       "\n",
       "mpl.figure.prototype.send_draw_message = function() {\n",
       "    if (!this.waiting) {\n",
       "        this.waiting = true;\n",
       "        this.ws.send(JSON.stringify({type: \"draw\", figure_id: this.id}));\n",
       "    }\n",
       "}\n",
       "\n",
       "\n",
       "mpl.figure.prototype.handle_save = function(fig, msg) {\n",
       "    var format_dropdown = fig.format_dropdown;\n",
       "    var format = format_dropdown.options[format_dropdown.selectedIndex].value;\n",
       "    fig.ondownload(fig, format);\n",
       "}\n",
       "\n",
       "\n",
       "mpl.figure.prototype.handle_resize = function(fig, msg) {\n",
       "    var size = msg['size'];\n",
       "    if (size[0] != fig.canvas.width || size[1] != fig.canvas.height) {\n",
       "        fig._resize_canvas(size[0], size[1]);\n",
       "        fig.send_message(\"refresh\", {});\n",
       "    };\n",
       "}\n",
       "\n",
       "mpl.figure.prototype.handle_rubberband = function(fig, msg) {\n",
       "    var x0 = msg['x0'];\n",
       "    var y0 = fig.canvas.height - msg['y0'];\n",
       "    var x1 = msg['x1'];\n",
       "    var y1 = fig.canvas.height - msg['y1'];\n",
       "    x0 = Math.floor(x0) + 0.5;\n",
       "    y0 = Math.floor(y0) + 0.5;\n",
       "    x1 = Math.floor(x1) + 0.5;\n",
       "    y1 = Math.floor(y1) + 0.5;\n",
       "    var min_x = Math.min(x0, x1);\n",
       "    var min_y = Math.min(y0, y1);\n",
       "    var width = Math.abs(x1 - x0);\n",
       "    var height = Math.abs(y1 - y0);\n",
       "\n",
       "    fig.rubberband_context.clearRect(\n",
       "        0, 0, fig.canvas.width, fig.canvas.height);\n",
       "\n",
       "    fig.rubberband_context.strokeRect(min_x, min_y, width, height);\n",
       "}\n",
       "\n",
       "mpl.figure.prototype.handle_figure_label = function(fig, msg) {\n",
       "    // Updates the figure title.\n",
       "    fig.header.textContent = msg['label'];\n",
       "}\n",
       "\n",
       "mpl.figure.prototype.handle_cursor = function(fig, msg) {\n",
       "    var cursor = msg['cursor'];\n",
       "    switch(cursor)\n",
       "    {\n",
       "    case 0:\n",
       "        cursor = 'pointer';\n",
       "        break;\n",
       "    case 1:\n",
       "        cursor = 'default';\n",
       "        break;\n",
       "    case 2:\n",
       "        cursor = 'crosshair';\n",
       "        break;\n",
       "    case 3:\n",
       "        cursor = 'move';\n",
       "        break;\n",
       "    }\n",
       "    fig.rubberband_canvas.style.cursor = cursor;\n",
       "}\n",
       "\n",
       "mpl.figure.prototype.handle_message = function(fig, msg) {\n",
       "    fig.message.textContent = msg['message'];\n",
       "}\n",
       "\n",
       "mpl.figure.prototype.handle_draw = function(fig, msg) {\n",
       "    // Request the server to send over a new figure.\n",
       "    fig.send_draw_message();\n",
       "}\n",
       "\n",
       "mpl.figure.prototype.handle_image_mode = function(fig, msg) {\n",
       "    fig.image_mode = msg['mode'];\n",
       "}\n",
       "\n",
       "mpl.figure.prototype.updated_canvas_event = function() {\n",
       "    // Called whenever the canvas gets updated.\n",
       "    this.send_message(\"ack\", {});\n",
       "}\n",
       "\n",
       "// A function to construct a web socket function for onmessage handling.\n",
       "// Called in the figure constructor.\n",
       "mpl.figure.prototype._make_on_message_function = function(fig) {\n",
       "    return function socket_on_message(evt) {\n",
       "        if (evt.data instanceof Blob) {\n",
       "            /* FIXME: We get \"Resource interpreted as Image but\n",
       "             * transferred with MIME type text/plain:\" errors on\n",
       "             * Chrome.  But how to set the MIME type?  It doesn't seem\n",
       "             * to be part of the websocket stream */\n",
       "            evt.data.type = \"image/png\";\n",
       "\n",
       "            /* Free the memory for the previous frames */\n",
       "            if (fig.imageObj.src) {\n",
       "                (window.URL || window.webkitURL).revokeObjectURL(\n",
       "                    fig.imageObj.src);\n",
       "            }\n",
       "\n",
       "            fig.imageObj.src = (window.URL || window.webkitURL).createObjectURL(\n",
       "                evt.data);\n",
       "            fig.updated_canvas_event();\n",
       "            fig.waiting = false;\n",
       "            return;\n",
       "        }\n",
       "        else if (typeof evt.data === 'string' && evt.data.slice(0, 21) == \"data:image/png;base64\") {\n",
       "            fig.imageObj.src = evt.data;\n",
       "            fig.updated_canvas_event();\n",
       "            fig.waiting = false;\n",
       "            return;\n",
       "        }\n",
       "\n",
       "        var msg = JSON.parse(evt.data);\n",
       "        var msg_type = msg['type'];\n",
       "\n",
       "        // Call the  \"handle_{type}\" callback, which takes\n",
       "        // the figure and JSON message as its only arguments.\n",
       "        try {\n",
       "            var callback = fig[\"handle_\" + msg_type];\n",
       "        } catch (e) {\n",
       "            console.log(\"No handler for the '\" + msg_type + \"' message type: \", msg);\n",
       "            return;\n",
       "        }\n",
       "\n",
       "        if (callback) {\n",
       "            try {\n",
       "                // console.log(\"Handling '\" + msg_type + \"' message: \", msg);\n",
       "                callback(fig, msg);\n",
       "            } catch (e) {\n",
       "                console.log(\"Exception inside the 'handler_\" + msg_type + \"' callback:\", e, e.stack, msg);\n",
       "            }\n",
       "        }\n",
       "    };\n",
       "}\n",
       "\n",
       "// from http://stackoverflow.com/questions/1114465/getting-mouse-location-in-canvas\n",
       "mpl.findpos = function(e) {\n",
       "    //this section is from http://www.quirksmode.org/js/events_properties.html\n",
       "    var targ;\n",
       "    if (!e)\n",
       "        e = window.event;\n",
       "    if (e.target)\n",
       "        targ = e.target;\n",
       "    else if (e.srcElement)\n",
       "        targ = e.srcElement;\n",
       "    if (targ.nodeType == 3) // defeat Safari bug\n",
       "        targ = targ.parentNode;\n",
       "\n",
       "    // jQuery normalizes the pageX and pageY\n",
       "    // pageX,Y are the mouse positions relative to the document\n",
       "    // offset() returns the position of the element relative to the document\n",
       "    var x = e.pageX - $(targ).offset().left;\n",
       "    var y = e.pageY - $(targ).offset().top;\n",
       "\n",
       "    return {\"x\": x, \"y\": y};\n",
       "};\n",
       "\n",
       "/*\n",
       " * return a copy of an object with only non-object keys\n",
       " * we need this to avoid circular references\n",
       " * http://stackoverflow.com/a/24161582/3208463\n",
       " */\n",
       "function simpleKeys (original) {\n",
       "  return Object.keys(original).reduce(function (obj, key) {\n",
       "    if (typeof original[key] !== 'object')\n",
       "        obj[key] = original[key]\n",
       "    return obj;\n",
       "  }, {});\n",
       "}\n",
       "\n",
       "mpl.figure.prototype.mouse_event = function(event, name) {\n",
       "    var canvas_pos = mpl.findpos(event)\n",
       "\n",
       "    if (name === 'button_press')\n",
       "    {\n",
       "        this.canvas.focus();\n",
       "        this.canvas_div.focus();\n",
       "    }\n",
       "\n",
       "    var x = canvas_pos.x;\n",
       "    var y = canvas_pos.y;\n",
       "\n",
       "    this.send_message(name, {x: x, y: y, button: event.button,\n",
       "                             step: event.step,\n",
       "                             guiEvent: simpleKeys(event)});\n",
       "\n",
       "    /* This prevents the web browser from automatically changing to\n",
       "     * the text insertion cursor when the button is pressed.  We want\n",
       "     * to control all of the cursor setting manually through the\n",
       "     * 'cursor' event from matplotlib */\n",
       "    event.preventDefault();\n",
       "    return false;\n",
       "}\n",
       "\n",
       "mpl.figure.prototype._key_event_extra = function(event, name) {\n",
       "    // Handle any extra behaviour associated with a key event\n",
       "}\n",
       "\n",
       "mpl.figure.prototype.key_event = function(event, name) {\n",
       "\n",
       "    // Prevent repeat events\n",
       "    if (name == 'key_press')\n",
       "    {\n",
       "        if (event.which === this._key)\n",
       "            return;\n",
       "        else\n",
       "            this._key = event.which;\n",
       "    }\n",
       "    if (name == 'key_release')\n",
       "        this._key = null;\n",
       "\n",
       "    var value = '';\n",
       "    if (event.ctrlKey && event.which != 17)\n",
       "        value += \"ctrl+\";\n",
       "    if (event.altKey && event.which != 18)\n",
       "        value += \"alt+\";\n",
       "    if (event.shiftKey && event.which != 16)\n",
       "        value += \"shift+\";\n",
       "\n",
       "    value += 'k';\n",
       "    value += event.which.toString();\n",
       "\n",
       "    this._key_event_extra(event, name);\n",
       "\n",
       "    this.send_message(name, {key: value,\n",
       "                             guiEvent: simpleKeys(event)});\n",
       "    return false;\n",
       "}\n",
       "\n",
       "mpl.figure.prototype.toolbar_button_onclick = function(name) {\n",
       "    if (name == 'download') {\n",
       "        this.handle_save(this, null);\n",
       "    } else {\n",
       "        this.send_message(\"toolbar_button\", {name: name});\n",
       "    }\n",
       "};\n",
       "\n",
       "mpl.figure.prototype.toolbar_button_onmouseover = function(tooltip) {\n",
       "    this.message.textContent = tooltip;\n",
       "};\n",
       "mpl.toolbar_items = [[\"Home\", \"Reset original view\", \"fa fa-home icon-home\", \"home\"], [\"Back\", \"Back to  previous view\", \"fa fa-arrow-left icon-arrow-left\", \"back\"], [\"Forward\", \"Forward to next view\", \"fa fa-arrow-right icon-arrow-right\", \"forward\"], [\"\", \"\", \"\", \"\"], [\"Pan\", \"Pan axes with left mouse, zoom with right\", \"fa fa-arrows icon-move\", \"pan\"], [\"Zoom\", \"Zoom to rectangle\", \"fa fa-square-o icon-check-empty\", \"zoom\"], [\"\", \"\", \"\", \"\"], [\"Download\", \"Download plot\", \"fa fa-floppy-o icon-save\", \"download\"]];\n",
       "\n",
       "mpl.extensions = [\"eps\", \"jpeg\", \"pdf\", \"png\", \"ps\", \"raw\", \"svg\", \"tif\"];\n",
       "\n",
       "mpl.default_extension = \"png\";var comm_websocket_adapter = function(comm) {\n",
       "    // Create a \"websocket\"-like object which calls the given IPython comm\n",
       "    // object with the appropriate methods. Currently this is a non binary\n",
       "    // socket, so there is still some room for performance tuning.\n",
       "    var ws = {};\n",
       "\n",
       "    ws.close = function() {\n",
       "        comm.close()\n",
       "    };\n",
       "    ws.send = function(m) {\n",
       "        //console.log('sending', m);\n",
       "        comm.send(m);\n",
       "    };\n",
       "    // Register the callback with on_msg.\n",
       "    comm.on_msg(function(msg) {\n",
       "        //console.log('receiving', msg['content']['data'], msg);\n",
       "        // Pass the mpl event to the overriden (by mpl) onmessage function.\n",
       "        ws.onmessage(msg['content']['data'])\n",
       "    });\n",
       "    return ws;\n",
       "}\n",
       "\n",
       "mpl.mpl_figure_comm = function(comm, msg) {\n",
       "    // This is the function which gets called when the mpl process\n",
       "    // starts-up an IPython Comm through the \"matplotlib\" channel.\n",
       "\n",
       "    var id = msg.content.data.id;\n",
       "    // Get hold of the div created by the display call when the Comm\n",
       "    // socket was opened in Python.\n",
       "    var element = $(\"#\" + id);\n",
       "    var ws_proxy = comm_websocket_adapter(comm)\n",
       "\n",
       "    function ondownload(figure, format) {\n",
       "        window.open(figure.imageObj.src);\n",
       "    }\n",
       "\n",
       "    var fig = new mpl.figure(id, ws_proxy,\n",
       "                           ondownload,\n",
       "                           element.get(0));\n",
       "\n",
       "    // Call onopen now - mpl needs it, as it is assuming we've passed it a real\n",
       "    // web socket which is closed, not our websocket->open comm proxy.\n",
       "    ws_proxy.onopen();\n",
       "\n",
       "    fig.parent_element = element.get(0);\n",
       "    fig.cell_info = mpl.find_output_cell(\"<div id='\" + id + \"'></div>\");\n",
       "    if (!fig.cell_info) {\n",
       "        console.error(\"Failed to find cell for figure\", id, fig);\n",
       "        return;\n",
       "    }\n",
       "\n",
       "    var output_index = fig.cell_info[2]\n",
       "    var cell = fig.cell_info[0];\n",
       "\n",
       "};\n",
       "\n",
       "mpl.figure.prototype.handle_close = function(fig, msg) {\n",
       "    fig.root.unbind('remove')\n",
       "\n",
       "    // Update the output cell to use the data from the current canvas.\n",
       "    fig.push_to_output();\n",
       "    var dataURL = fig.canvas.toDataURL();\n",
       "    // Re-enable the keyboard manager in IPython - without this line, in FF,\n",
       "    // the notebook keyboard shortcuts fail.\n",
       "    IPython.keyboard_manager.enable()\n",
       "    $(fig.parent_element).html('<img src=\"' + dataURL + '\">');\n",
       "    fig.close_ws(fig, msg);\n",
       "}\n",
       "\n",
       "mpl.figure.prototype.close_ws = function(fig, msg){\n",
       "    fig.send_message('closing', msg);\n",
       "    // fig.ws.close()\n",
       "}\n",
       "\n",
       "mpl.figure.prototype.push_to_output = function(remove_interactive) {\n",
       "    // Turn the data on the canvas into data in the output cell.\n",
       "    var dataURL = this.canvas.toDataURL();\n",
       "    this.cell_info[1]['text/html'] = '<img src=\"' + dataURL + '\">';\n",
       "}\n",
       "\n",
       "mpl.figure.prototype.updated_canvas_event = function() {\n",
       "    // Tell IPython that the notebook contents must change.\n",
       "    IPython.notebook.set_dirty(true);\n",
       "    this.send_message(\"ack\", {});\n",
       "    var fig = this;\n",
       "    // Wait a second, then push the new image to the DOM so\n",
       "    // that it is saved nicely (might be nice to debounce this).\n",
       "    setTimeout(function () { fig.push_to_output() }, 1000);\n",
       "}\n",
       "\n",
       "mpl.figure.prototype._init_toolbar = function() {\n",
       "    var fig = this;\n",
       "\n",
       "    var nav_element = $('<div/>')\n",
       "    nav_element.attr('style', 'width: 100%');\n",
       "    this.root.append(nav_element);\n",
       "\n",
       "    // Define a callback function for later on.\n",
       "    function toolbar_event(event) {\n",
       "        return fig.toolbar_button_onclick(event['data']);\n",
       "    }\n",
       "    function toolbar_mouse_event(event) {\n",
       "        return fig.toolbar_button_onmouseover(event['data']);\n",
       "    }\n",
       "\n",
       "    for(var toolbar_ind in mpl.toolbar_items){\n",
       "        var name = mpl.toolbar_items[toolbar_ind][0];\n",
       "        var tooltip = mpl.toolbar_items[toolbar_ind][1];\n",
       "        var image = mpl.toolbar_items[toolbar_ind][2];\n",
       "        var method_name = mpl.toolbar_items[toolbar_ind][3];\n",
       "\n",
       "        if (!name) { continue; };\n",
       "\n",
       "        var button = $('<button class=\"btn btn-default\" href=\"#\" title=\"' + name + '\"><i class=\"fa ' + image + ' fa-lg\"></i></button>');\n",
       "        button.click(method_name, toolbar_event);\n",
       "        button.mouseover(tooltip, toolbar_mouse_event);\n",
       "        nav_element.append(button);\n",
       "    }\n",
       "\n",
       "    // Add the status bar.\n",
       "    var status_bar = $('<span class=\"mpl-message\" style=\"text-align:right; float: right;\"/>');\n",
       "    nav_element.append(status_bar);\n",
       "    this.message = status_bar[0];\n",
       "\n",
       "    // Add the close button to the window.\n",
       "    var buttongrp = $('<div class=\"btn-group inline pull-right\"></div>');\n",
       "    var button = $('<button class=\"btn btn-mini btn-primary\" href=\"#\" title=\"Stop Interaction\"><i class=\"fa fa-power-off icon-remove icon-large\"></i></button>');\n",
       "    button.click(function (evt) { fig.handle_close(fig, {}); } );\n",
       "    button.mouseover('Stop Interaction', toolbar_mouse_event);\n",
       "    buttongrp.append(button);\n",
       "    var titlebar = this.root.find($('.ui-dialog-titlebar'));\n",
       "    titlebar.prepend(buttongrp);\n",
       "}\n",
       "\n",
       "mpl.figure.prototype._root_extra_style = function(el){\n",
       "    var fig = this\n",
       "    el.on(\"remove\", function(){\n",
       "\tfig.close_ws(fig, {});\n",
       "    });\n",
       "}\n",
       "\n",
       "mpl.figure.prototype._canvas_extra_style = function(el){\n",
       "    // this is important to make the div 'focusable\n",
       "    el.attr('tabindex', 0)\n",
       "    // reach out to IPython and tell the keyboard manager to turn it's self\n",
       "    // off when our div gets focus\n",
       "\n",
       "    // location in version 3\n",
       "    if (IPython.notebook.keyboard_manager) {\n",
       "        IPython.notebook.keyboard_manager.register_events(el);\n",
       "    }\n",
       "    else {\n",
       "        // location in version 2\n",
       "        IPython.keyboard_manager.register_events(el);\n",
       "    }\n",
       "\n",
       "}\n",
       "\n",
       "mpl.figure.prototype._key_event_extra = function(event, name) {\n",
       "    var manager = IPython.notebook.keyboard_manager;\n",
       "    if (!manager)\n",
       "        manager = IPython.keyboard_manager;\n",
       "\n",
       "    // Check for shift+enter\n",
       "    if (event.shiftKey && event.which == 13) {\n",
       "        this.canvas_div.blur();\n",
       "        event.shiftKey = false;\n",
       "        // Send a \"J\" for go to next cell\n",
       "        event.which = 74;\n",
       "        event.keyCode = 74;\n",
       "        manager.command_mode();\n",
       "        manager.handle_keydown(event);\n",
       "    }\n",
       "}\n",
       "\n",
       "mpl.figure.prototype.handle_save = function(fig, msg) {\n",
       "    fig.ondownload(fig, null);\n",
       "}\n",
       "\n",
       "\n",
       "mpl.find_output_cell = function(html_output) {\n",
       "    // Return the cell and output element which can be found *uniquely* in the notebook.\n",
       "    // Note - this is a bit hacky, but it is done because the \"notebook_saving.Notebook\"\n",
       "    // IPython event is triggered only after the cells have been serialised, which for\n",
       "    // our purposes (turning an active figure into a static one), is too late.\n",
       "    var cells = IPython.notebook.get_cells();\n",
       "    var ncells = cells.length;\n",
       "    for (var i=0; i<ncells; i++) {\n",
       "        var cell = cells[i];\n",
       "        if (cell.cell_type === 'code'){\n",
       "            for (var j=0; j<cell.output_area.outputs.length; j++) {\n",
       "                var data = cell.output_area.outputs[j];\n",
       "                if (data.data) {\n",
       "                    // IPython >= 3 moved mimebundle to data attribute of output\n",
       "                    data = data.data;\n",
       "                }\n",
       "                if (data['text/html'] == html_output) {\n",
       "                    return [cell, data, j];\n",
       "                }\n",
       "            }\n",
       "        }\n",
       "    }\n",
       "}\n",
       "\n",
       "// Register the function which deals with the matplotlib target/channel.\n",
       "// The kernel may be null if the page has been refreshed.\n",
       "if (IPython.notebook.kernel != null) {\n",
       "    IPython.notebook.kernel.comm_manager.register_target('matplotlib', mpl.mpl_figure_comm);\n",
       "}\n"
      ],
      "text/plain": [
       "<IPython.core.display.Javascript object>"
      ]
     },
     "metadata": {},
     "output_type": "display_data"
    },
    {
     "data": {
      "text/html": [
       "<img src=\"data:image/png;base64,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\">"
      ],
      "text/plain": [
       "<IPython.core.display.HTML object>"
      ]
     },
     "metadata": {},
     "output_type": "display_data"
    },
    {
     "data": {
      "text/plain": [
       "<matplotlib.legend.Legend at 0x7fee07613c90>"
      ]
     },
     "execution_count": 16,
     "metadata": {},
     "output_type": "execute_result"
    }
   ],
   "source": [
    "%notebook inline\n",
    "import matplotlib.pyplot as plt\n",
    "import numpy as np\n",
    "C = 10\n",
    "alpha = -0.5\n",
    "q = 0.9\n",
    "num_iter = 7\n",
    "sublinear = np.array([C * k**alpha for k in xrange(1, num_iter + 1)])\n",
    "linear = np.array([C * q**k for k in xrange(1, num_iter + 1)])\n",
    "quadratic = np.array([C * q**(2**k) for k in xrange(1, num_iter + 1)])\n",
    "plt.semilogy(sublinear, label=r\"Sublinear, $\\alpha = -0.5$\")\n",
    "plt.semilogy(linear, label=r\"Linear, $q = 0.5$\")\n",
    "plt.semilogy(quadratic, label=r\"Quadratic, $q = 0.5$\")\n",
    "plt.xlabel(\"Number of iteration, $k$\", fontsize=18)\n",
    "plt.ylabel(\"Error rate upper bound\", fontsize=18)\n",
    "plt.legend(loc=\"best\")"
   ]
  },
  {
   "cell_type": "markdown",
   "metadata": {
    "slideshow": {
     "slide_type": "slide"
    }
   },
   "source": [
    "### Значение теорем сходимости (Б.Т. Поляк Введение в оптимизацию, гл. 1, $\\S$ 6)\n",
    "1. Что дают теоремы сходимости\n",
    "     - класс задач, для которых можно рассчитывать на применимость метода (важно не завышать условия!)\n",
    "         - выпуклость\n",
    "         - гладкость\n",
    "     - качественное поведение метода\n",
    "         - существенно ли начальное приближение\n",
    "         - по какому функционалу есть сходимость\n",
    "     - оценку скорости сходимости\n",
    "         - теоретическая оценка поведения метода без проведения экспериментов\n",
    "         - определение факторов, которые влияют на сходимость (обусловленность, размерность, etc)\n",
    "         - иногда заранее можно выбрать число итераций для достижения заданной точности \n",
    "\n",
    "2. Что НЕ дают теоремы сходимости\n",
    "    - сходимость метода ничего не говорит о целесообразности его применения\n",
    "    - оценки сходимости зависят от неизвестных констант - неконструктивный характер\n",
    "    - учёт ошибок округления и точности решения вспомогательных задач\n",
    "    \n",
    "**Мораль**: нужно проявлять разумную осторожность и здравый смысл!"
   ]
  },
  {
   "cell_type": "markdown",
   "metadata": {
    "slideshow": {
     "slide_type": "slide"
    }
   },
   "source": [
    "## Классификация задач\n",
    "1. Безусловная оптимизация\n",
    "    - целевая функция липшицева\n",
    "    - градиент целевой функции липшицев\n",
    "2. Условная оптимизация\n",
    "    - многогранник\n",
    "    - множество простой структуры"
   ]
  },
  {
   "cell_type": "markdown",
   "metadata": {
    "slideshow": {
     "slide_type": "slide"
    }
   },
   "source": [
    "## Классификация методов\n",
    "1. Методы нулевого порядка: оракул возвращает только значение функции $f(x)$\n",
    "\n",
    "2. Методы первого порядка: оракул возвращает значение функции $f(x)$ и её градиент $f'(x)$\n",
    "\n",
    "3. Методы второго порядка: оракул возвращает значение функции $f(x)$, её градиент $f'(x)$ и гессиан $f''(x)$.\n",
    "\n",
    "**Вопрос**: существуют ли методы более высокого порядка?\n",
    "\n",
    "1. Одношаговые методы \n",
    "$$\n",
    "x_{k+1} = \\Phi(x_k)\n",
    "$$\n",
    "2. Многошаговые методы\n",
    "$$\n",
    "x_{k+1} = \\Phi(x_k, x_{k-1}, ...)\n",
    "$$"
   ]
  },
  {
   "cell_type": "markdown",
   "metadata": {
    "slideshow": {
     "slide_type": "slide"
    }
   },
   "source": [
    "## Одномерная минимизация\n",
    "**Определение**. Функция $f(x)$ называется унимодальной на $[a, b]$, если существует такая точка $x^* \\in [a, b]$, что $f(x_1) > f(x_2)$ для любых $a \\leq x_1 < x_2 < x^*$, и $f(x_1) < f(x_2)$ для любых $x^* < x_1 < x_2 \\leq b$.\n",
    "\n",
    "**Вопрос**: какая геометрия унимодальных функций?"
   ]
  },
  {
   "cell_type": "markdown",
   "metadata": {
    "slideshow": {
     "slide_type": "slide"
    }
   },
   "source": [
    "### Метод дихотомии\n",
    "\n",
    "Идея из информатики первого семестра: делим отрезок $[a,b]$ пока не найдём минимум унимодальной функции.\n",
    "\n",
    "Пусть $N$ - число вычислений функции $f$, тогда можно выполнить $K = \\frac{N - 1}{2}$ итераций и выполнена следующая оценка\n",
    "$$\n",
    "|x_{K+1} - x^*| \\leq \\frac{b_{K+1} - a_{K+1}}{2} = \\left( \\frac{1}{2} \\right)^K (b - a) \\approx 0.707^{N - 1} (b - a) \n",
    "$$"
   ]
  },
  {
   "cell_type": "code",
   "execution_count": 1,
   "metadata": {
    "collapsed": false,
    "slideshow": {
     "slide_type": "fragment"
    }
   },
   "outputs": [],
   "source": [
    "def binary_search(f, a, b, epsilon, callback=None):\n",
    "    c = (a + b) / 2.0\n",
    "    while abs(b - a) > epsilon:\n",
    "#         Check left subsegment\n",
    "        y = (a + c) / 2.0\n",
    "        if f(y) <= f(c):\n",
    "            b = c\n",
    "            c = y\n",
    "        else:\n",
    "#         Check right subsegment\n",
    "            z = (b + c) / 2.0\n",
    "            if f(c) <= f(z):\n",
    "                a = y\n",
    "                b = z\n",
    "            else:\n",
    "                a = c\n",
    "                c = z\n",
    "        if callback is not None:\n",
    "            callback(a, b, c)\n",
    "    return c"
   ]
  },
  {
   "cell_type": "code",
   "execution_count": 2,
   "metadata": {
    "collapsed": true
   },
   "outputs": [],
   "source": [
    "def my_callback(a, b, x, left_bound, right_bound, approximation):\n",
    "    left_bound.append(a)\n",
    "    right_bound.append(b)\n",
    "    approximation.append(x)"
   ]
  },
  {
   "cell_type": "code",
   "execution_count": 3,
   "metadata": {
    "collapsed": false,
    "slideshow": {
     "slide_type": "slide"
    }
   },
   "outputs": [
    {
     "name": "stdout",
     "output_type": "stream",
     "text": [
      "8.77750849781e-09\n"
     ]
    }
   ],
   "source": [
    "# %notebook inline\n",
    "# %matplotlib inline\n",
    "%matplotlib notebook\n",
    "import numpy as np\n",
    "import matplotlib.pyplot as plt\n",
    "\n",
    "left_boud_bs = []\n",
    "right_bound_bs = []\n",
    "approximation_bs = []\n",
    "\n",
    "callback_bs = lambda a, b, x: my_callback(a, b, x, left_boud_bs, right_bound_bs, approximation_bs)\n",
    "\n",
    "# Target unimodal function on given segment\n",
    "f = lambda x: -np.sin(x)\n",
    "\n",
    "x_opt = binary_search(f, 0, np.pi, 1e-8, callback_bs)\n",
    "print np.abs(x_opt - np.pi / 2)"
   ]
  },
  {
   "cell_type": "markdown",
   "metadata": {
    "slideshow": {
     "slide_type": "slide"
    }
   },
   "source": [
    "### Метод золотого сечения\n",
    "\n"
   ]
  },
  {
   "cell_type": "code",
   "execution_count": null,
   "metadata": {
    "collapsed": true,
    "slideshow": {
     "slide_type": "fragment"
    }
   },
   "outputs": [],
   "source": []
  },
  {
   "cell_type": "markdown",
   "metadata": {
    "slideshow": {
     "slide_type": "slide"
    }
   },
   "source": [
    "### Метод Фибоначчи "
   ]
  },
  {
   "cell_type": "markdown",
   "metadata": {
    "slideshow": {
     "slide_type": "slide"
    }
   },
   "source": [
    "### Сравнение методов одномерной минимизации"
   ]
  },
  {
   "cell_type": "markdown",
   "metadata": {
    "slideshow": {
     "slide_type": "slide"
    }
   },
   "source": [
    "## Резюме\n",
    "1. Введение в численные методы оптимизации\n",
    "2. Общая схема работы метода\n",
    "3. Как сравнивать методы оптимизации?\n",
    "4. Зоопарк задач и методов\n",
    "5. Одномерная минимизация"
   ]
  }
 ],
 "metadata": {
  "anaconda-cloud": {},
  "celltoolbar": "Slideshow",
  "kernelspec": {
   "display_name": "Python [default]",
   "language": "python",
   "name": "python2"
  },
  "language_info": {
   "codemirror_mode": {
    "name": "ipython",
    "version": 2
   },
   "file_extension": ".py",
   "mimetype": "text/x-python",
   "name": "python",
   "nbconvert_exporter": "python",
   "pygments_lexer": "ipython2",
   "version": "2.7.11"
  },
  "nbpresent": {
   "slides": {
    "b738dfa0-30f4-4350-8338-c31d236608ec": {
     "id": "b738dfa0-30f4-4350-8338-c31d236608ec",
     "prev": null,
     "regions": {
      "96278b08-d857-478b-803c-5921bd08bbcd": {
       "attrs": {
        "height": 0.8,
        "width": 0.8,
        "x": 0.1,
        "y": 0.1
       },
       "content": {
        "cell": "196b8a50-3d29-45c3-82b9-f4a09b49491d",
        "part": "whole"
       },
       "id": "96278b08-d857-478b-803c-5921bd08bbcd"
      },
      "9b98a7cc-d9d4-4a02-ac7e-30168dcde7af": {
       "attrs": {
        "height": 0.4,
        "width": 0.8,
        "x": 0.1,
        "y": 0.5
       },
       "content": {
        "cell": "2a573842-172b-4931-b0dd-9c9d3c47a450",
        "part": "whole"
       },
       "id": "9b98a7cc-d9d4-4a02-ac7e-30168dcde7af"
      }
     }
    }
   },
   "themes": {}
  }
 },
 "nbformat": 4,
 "nbformat_minor": 0
}
