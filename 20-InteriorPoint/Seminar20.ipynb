{
 "cells": [
  {
   "cell_type": "markdown",
   "metadata": {
    "slideshow": {
     "slide_type": "slide"
    }
   },
   "source": [
    "# Семинар 20\n",
    "# Методы внутренней точки"
   ]
  },
  {
   "cell_type": "markdown",
   "metadata": {
    "slideshow": {
     "slide_type": "slide"
    }
   },
   "source": [
    "## На прошлом семинаре\n",
    "\n",
    "- Метод проекции градиента\n",
    "- Метод условного градиента"
   ]
  },
  {
   "cell_type": "markdown",
   "metadata": {
    "slideshow": {
     "slide_type": "slide"
    }
   },
   "source": [
    "## Задача выпуклой оптимизации с ограничениями типа равенств\n",
    "\n",
    "\\begin{equation}\n",
    "\\begin{split}\n",
    "&\\min f(x) \\\\ \n",
    "\\text{s.t. } & Ax = b,\n",
    "\\end{split}\n",
    "\\end{equation}\n",
    "где $f$ - выпукла и дважды диференцируема, $A \\in \\mathbb{R}^{p \\times n}$ и $\\mathrm{rank} \\; A = p < n$"
   ]
  },
  {
   "cell_type": "markdown",
   "metadata": {
    "slideshow": {
     "slide_type": "slide"
    }
   },
   "source": [
    "### Двойственная задача\n",
    "Двойственная функция \n",
    "\\begin{equation}\n",
    "\\begin{split}\n",
    "g(\\mu) &  = -b^{\\top}\\mu + \\inf_x(f(x) + \\mu^{\\top}Ax) \\\\\n",
    "& = -b^{\\top}\\mu - \\sup_x((-A^{\\top}\\mu)^{\\top}x -f(x)) \\\\\n",
    "& = -b^{\\top}\\mu - f^*(-A^{\\top}\\mu)\n",
    "\\end{split}\n",
    "\\end{equation}\n",
    "\n",
    "Двойственная задача\n",
    "$$\n",
    "\\max_\\mu -b^{\\top}\\mu - f^*(-A^{\\top}\\mu)\n",
    "$$\n",
    "\n",
    "**Подход 1**: найти сопряжённую функцию и решить безусловную задачу оптимизации"
   ]
  },
  {
   "cell_type": "markdown",
   "metadata": {
    "slideshow": {
     "slide_type": "slide"
    }
   },
   "source": [
    "**Трудности**\n",
    "- не всегда легко восстановить решение прямой задачи по решению двойственной\n",
    "- сопряжённая функция $f^*$ должна быть дважды дифференцируемое для быстрого решения двойственной задачи. Это не всегда так."
   ]
  },
  {
   "cell_type": "markdown",
   "metadata": {
    "slideshow": {
     "slide_type": "slide"
    }
   },
   "source": [
    "### Условия оптимальности\n",
    "\n",
    "- $Ax^* = b$\n",
    "- $f'(x^*) + A^{\\top}\\mu^* = 0$\n",
    "\n",
    "или\n",
    "$$\n",
    "\\begin{bmatrix}\n",
    "f' & A^{\\top}\\\\\n",
    "A & 0\n",
    "\\end{bmatrix}\n",
    "\\begin{bmatrix}\n",
    "x^*\\\\\n",
    "\\mu^*\n",
    "\\end{bmatrix}\n",
    " = \n",
    "\\begin{bmatrix}\n",
    "0\\\\\n",
    "b\n",
    "\\end{bmatrix}\n",
    "$$\n",
    "\n",
    "**Подход 2**: решить нелинейную в общем случае систему методом Ньютона.\n",
    "\n",
    "**Вопрос**: в каком случае система окажется линейной?"
   ]
  },
  {
   "cell_type": "markdown",
   "metadata": {
    "slideshow": {
     "slide_type": "slide"
    }
   },
   "source": [
    "## Метод Ньютона для выпуклых задач с ограничениями типа равенств\n",
    "\n",
    "\\begin{equation}\n",
    "\\begin{split}\n",
    "& \\min_v f(x) + f'(x)^{\\top}v + \\frac{1}{2}v^{\\top}f''(x)v\\\\\n",
    "\\text{s.t. } & A(x + v) = b\n",
    "\\end{split}\n",
    "\\end{equation}\n",
    "\n",
    "Из условий оптимальности имеем\n",
    "$$\n",
    "\\begin{bmatrix}\n",
    "f''(x) & A^{\\top}\\\\\n",
    "A & 0\n",
    "\\end{bmatrix}\n",
    "\\begin{bmatrix}\n",
    "v\\\\\n",
    "w\n",
    "\\end{bmatrix}\n",
    " = \n",
    "\\begin{bmatrix}\n",
    "-f'(x)\\\\\n",
    "0\n",
    "\\end{bmatrix}\n",
    "$$\n",
    "\n",
    "**Шаг метода Ньютона определён только для невырожденной матрицы!**"
   ]
  },
  {
   "cell_type": "markdown",
   "metadata": {
    "slideshow": {
     "slide_type": "slide"
    }
   },
   "source": [
    "**Упражнение**. Посчитайте за сколько итераций метод Ньютона сойдётся для квадратичной функции с ограничениями типа равенств."
   ]
  },
  {
   "cell_type": "markdown",
   "metadata": {
    "slideshow": {
     "slide_type": "slide"
    }
   },
   "source": [
    "### Линеаризация условий оптимальности\n",
    "\n",
    "- $A(x + v) = b \\rightarrow Av = 0$\n",
    "- $f'(x + v) + A^{\\top}w \\approx f'(x) + f''(x)v + A^{\\top}w = 0$\n",
    "\n",
    "или\n",
    "\n",
    "- $f''(x)v + A^{\\top}w = -f'(x)$"
   ]
  },
  {
   "cell_type": "markdown",
   "metadata": {
    "slideshow": {
     "slide_type": "slide"
    }
   },
   "source": [
    "### Псевдокод\n",
    "**Важно:** начальная точка должна лежать в допустимом множестве!\n",
    "\n",
    "```python\n",
    "def NewtonEqualityFeasible(f, gradf, hessf, A, b, stop_crit, line_search, x0, tol):\n",
    "    x = x0\n",
    "    n = x.shape[0]\n",
    "    while True:\n",
    "        newton_matrix = [[hessf(x), A.T], [A, 0]]\n",
    "        rhs = [-gradf(x), 0]\n",
    "        w = solve_lin_sys(newton_matrix, rhs)\n",
    "        h = w[:n]\n",
    "        if stop_crit(x, h, gradf(x), **kwargs) < tol:\n",
    "            break\n",
    "        alpha = line_search(x, h, f, gradf(x), **kwargs)\n",
    "        x = x + alpha * h\n",
    "    return x\n",
    "```"
   ]
  },
  {
   "cell_type": "markdown",
   "metadata": {
    "slideshow": {
     "slide_type": "slide"
    }
   },
   "source": [
    "### Критерий остановки\n",
    "Получим выражение для значения\n",
    "$$\n",
    "f(x) - \\inf_v(\\hat{f}(x + v) \\; | \\; A(x+v) = b),\n",
    "$$\n",
    "где $\\hat{f}$ - квадратичная аппроксимация функции $f$.\n",
    "\n",
    "Для этого \n",
    "$$\n",
    "\\langle h^{\\top} \\rvert \\cdot \\quad f''(x)h + A^{\\top}w = -f'(x)\n",
    "$$\n",
    "с учётом $Ah = 0$ получаем \n",
    "$$\n",
    "h^{\\top}f''(x)h = -f'(x)^{\\top}h\n",
    "$$\n",
    "\n",
    "Тогда \n",
    "$$\n",
    "\\inf_v(\\hat{f}(x + v) \\; | \\; A(x+v) = b) = f(x) - \\frac{1}{2}h^{\\top}f''(x)h\n",
    "$$\n",
    "\n",
    "**Вывод:** величина $h^{\\top}f''(x)h$ является наиболее адекватным критерием остановки метода Ньютона."
   ]
  },
  {
   "cell_type": "markdown",
   "metadata": {
    "slideshow": {
     "slide_type": "slide"
    }
   },
   "source": [
    "### Теорема сходимости\n",
    "\n",
    "Сходимость метода аналогична сходимости метода Ньютона для задачи безусловной оптимизации.\n",
    "\n",
    "**Теорема**\n",
    "Пусть выполнены следующие условия\n",
    "- множество уровней $S = \\{ x \\; | \\; x \\in D(f), \\; f(x) \\leq f(x_0), \\; Ax = b \\}$ замкнуто и $x_0 \\in D(f), \\; Ax_0 = b$\n",
    "-  для любых $x \\in S$ и $\\tilde{x} \\in S$ гессиан $f''(x)$ липшицев\n",
    "- на множестве $S$ $\\|f''(x)\\|_2 \\leq M $ и норма обратной матрицы KKT системы ограничена сверху\n",
    "\n",
    "Тогда, метод Ньютона сходится к паре $(x^*, \\mu^*)$ линейно, а при достижении достаточной близости к решению - квадратично."
   ]
  },
  {
   "cell_type": "markdown",
   "metadata": {
    "slideshow": {
     "slide_type": "slide"
    }
   },
   "source": [
    "## Случай недопустимой начальной точки\n",
    "\n",
    "- Метод Ньютона требует чтобы начальная точка лежала в допустимом множестве\n",
    "- Что делать, если поиск такой точки неочевиден: например, если область определения $f$ не сопадает с $\\mathbb{R}^n$\n",
    "- Пусть начальная точка не является допустимой, в этом случае условия KKT можно записать так\n",
    "\n",
    "$$\n",
    "\\begin{bmatrix}\n",
    "f''(x) & A^{\\top}\\\\\n",
    "A & 0\n",
    "\\end{bmatrix}\n",
    "\\begin{bmatrix}\n",
    "v\\\\\n",
    "w\n",
    "\\end{bmatrix}\n",
    " = -\n",
    "\\begin{bmatrix}\n",
    "f'(x)\\\\\n",
    "{\\color{red}{Ax - b}}\n",
    "\\end{bmatrix}\n",
    "$$\n",
    "- Если $x$ допустима, то система совпадает с системой для обычного метода Ньютона"
   ]
  },
  {
   "cell_type": "markdown",
   "metadata": {
    "slideshow": {
     "slide_type": "slide"
    }
   },
   "source": [
    "### Прямо-двойственная интерпретация\n",
    "\n",
    "- Метод *прямо-двойственный*, если на каждой итерации обновляются прямые и двойственные переменные\n",
    "- Покажем, что это значит. Для этого запишем условия оптимальности в виде\n",
    "$$\n",
    "r(x^*, \\mu^*) = (r_p(x^*, \\mu^*), r_d(x^*, \\mu^*)) = 0,\n",
    "$$\n",
    "где $r_p(x, \\mu) = Ax - b$ и $r_d(x, \\mu) = f'(x) + A^{\\top}\\mu$\n",
    "- Решим систему методом Ньютона:\n",
    "$$\n",
    "r(y + z) \\approx r(y) + Dr(y)z = 0\n",
    "$$"
   ]
  },
  {
   "cell_type": "markdown",
   "metadata": {
    "slideshow": {
     "slide_type": "slide"
    }
   },
   "source": [
    "- Прямо-двойственный шаг в методе Ньютона определим как решение линейной системы\n",
    "$$\n",
    "Dr(y)z = -r(y)\n",
    "$$\n",
    "или более подробно\n",
    "$$\n",
    "\\begin{bmatrix}\n",
    "f''(x) & A^{\\top}\\\\\n",
    "A & 0\n",
    "\\end{bmatrix}\n",
    "\\begin{bmatrix}\n",
    "z_p\\\\\n",
    "z_d\n",
    "\\end{bmatrix}\n",
    " = -\n",
    "\\begin{bmatrix}\n",
    "r_p(x, \\mu)\\\\\n",
    "r_d(x, \\mu)\n",
    "\\end{bmatrix}\n",
    "= - \n",
    "\\begin{bmatrix}\n",
    "f'(x) + A^{\\top}\\mu\\\\\n",
    "Ax - b\n",
    "\\end{bmatrix}\n",
    "$$\n",
    "\n",
    "- Заменим $z_d^+ = \\mu + z_d$ и получим\n",
    "$$\n",
    "\\begin{bmatrix}\n",
    "f''(x) & A^{\\top}\\\\\n",
    "A & 0\n",
    "\\end{bmatrix}\n",
    "\\begin{bmatrix}\n",
    "z_p\\\\\n",
    "z_d^+\n",
    "\\end{bmatrix}\n",
    "= - \n",
    "\\begin{bmatrix}\n",
    "f'(x)\\\\\n",
    "Ax - b\n",
    "\\end{bmatrix}\n",
    "$$\n",
    "\n",
    "- Система полностью эквивалентна ранее полученной в обозначениях \n",
    "\n",
    "$$\n",
    "v = z_p \\qquad w = z_d^+ = \\mu + z_d \n",
    "$$\n",
    "\n",
    "- Метод Ньютона даёт шаг для прямой переменной и обновлённое значение для двойственной"
   ]
  },
  {
   "cell_type": "markdown",
   "metadata": {
    "slideshow": {
     "slide_type": "slide"
    }
   },
   "source": [
    "### Способ инициализации\n",
    "\n",
    "- Удобный способ задания начального приближения: найти точку из области определения $f$ гораздо проще, чем из пересечения области определения и допустимого множества\n",
    "- Метод Ньютона с недопустимой начальной точкой не может определить согласованность ограничений"
   ]
  },
  {
   "cell_type": "markdown",
   "metadata": {
    "slideshow": {
     "slide_type": "slide"
    }
   },
   "source": [
    "### Псевдокод\n",
    "\n",
    "```python\n",
    "def NewtonEqualityInfeasible(f, gradf, hessf, A, b, stop_crit, line_search, x0, mu0, tol):\n",
    "    x = x0\n",
    "    mu = mu0\n",
    "    n = x.shape[0]\n",
    "    while True:\n",
    "        z_p, z_d = ComputeNewtonStep(hessf(x), A, b)\n",
    "        if stop_crit(x, z_p, z_d, gradf(x), **kwargs) < tol:\n",
    "            break\n",
    "        alpha = line_search(x, z_p, z_d, f, gradf(x), **kwargs)\n",
    "        x = x + alpha * z_p\n",
    "        mu = mu + alpha * z_d\n",
    "    return x\n",
    "```"
   ]
  },
  {
   "cell_type": "markdown",
   "metadata": {
    "slideshow": {
     "slide_type": "slide"
    }
   },
   "source": [
    "### Критерий остановки и линейный поиск\n",
    "\n",
    "- Изменение $r_p$ после шага $z_p$\n",
    "$$\n",
    "A(x + \\alpha z_p) - b = [A(x + z_p) = b] = Ax + \\alpha(b - Ax) - b = (1 - \\alpha)(Ax - b)\n",
    "$$\n",
    "- Итоговое изменение после $k$ шагов\n",
    "$$\n",
    "r^{(k)} = \\prod_{i=0}^{k-1}(1 - \\alpha^{(i)})r^{(0)}\n",
    "$$\n",
    "- Критерий остановки: $Ax = b$ и $\\|r(x, \\mu)\\|_2 \\leq \\varepsilon$"
   ]
  },
  {
   "cell_type": "markdown",
   "metadata": {
    "slideshow": {
     "slide_type": "slide"
    }
   },
   "source": [
    "- Линейный поиск: $c \\in (0, 1/2)$, $\\beta = (0, 1)$\n",
    "```python\n",
    "def linesearch(r, x, mu, z_p, z_d, c, beta):\n",
    "    alpha = 1\n",
    "    while np.linalg.norm(r(x + alpha * z_p, mu + alpha * z_d)) >= (1 - c * alpha) * np.linalg.norm(r(x, mu)):\n",
    "        alpha *= beta\n",
    "    return alpha\n",
    "```"
   ]
  },
  {
   "cell_type": "markdown",
   "metadata": {
    "slideshow": {
     "slide_type": "slide"
    }
   },
   "source": [
    "### Теорема сходимости\n",
    "\n",
    "Результат аналогичен результаты для допустимой начальной точки\n",
    "\n",
    "**Теорема** Пусть\n",
    "- множество подуровней $S = \\{(x, \\mu) \\; | \\; x \\in D(f), \\; \\| r(x, \\mu) \\|_2 \\leq \\| r(x_0, \\mu_0)  \\|_2 \\}$ замкнуто\n",
    "- на множестве $S$ норма матрицы обратной к ККТ матрице ограничена\n",
    "- гессиан липшицев на $S$.\n",
    "\n",
    "Тогда сходимость метода линейна при удалении от решении и квадратичная при достаточном приближении к решению."
   ]
  },
  {
   "cell_type": "markdown",
   "metadata": {
    "slideshow": {
     "slide_type": "slide"
    }
   },
   "source": [
    "## Примеры"
   ]
  },
  {
   "cell_type": "markdown",
   "metadata": {
    "slideshow": {
     "slide_type": "slide"
    }
   },
   "source": [
    "## Общая задача выпуклой оптимизации"
   ]
  },
  {
   "cell_type": "markdown",
   "metadata": {
    "slideshow": {
     "slide_type": "slide"
    }
   },
   "source": [
    "## Условия оптимальности"
   ]
  },
  {
   "cell_type": "markdown",
   "metadata": {
    "slideshow": {
     "slide_type": "slide"
    }
   },
   "source": [
    "## Логарифмический барьер"
   ]
  },
  {
   "cell_type": "markdown",
   "metadata": {
    "slideshow": {
     "slide_type": "slide"
    }
   },
   "source": [
    "## Центральный путь"
   ]
  },
  {
   "cell_type": "markdown",
   "metadata": {
    "slideshow": {
     "slide_type": "slide"
    }
   },
   "source": [
    "## Физическая интерпретация"
   ]
  },
  {
   "cell_type": "markdown",
   "metadata": {
    "slideshow": {
     "slide_type": "slide"
    }
   },
   "source": [
    "## Барьерный метод"
   ]
  },
  {
   "cell_type": "markdown",
   "metadata": {
    "slideshow": {
     "slide_type": "slide"
    }
   },
   "source": [
    "### Выбор параметров"
   ]
  },
  {
   "cell_type": "markdown",
   "metadata": {
    "slideshow": {
     "slide_type": "slide"
    }
   },
   "source": [
    "### Теорема сходимости"
   ]
  },
  {
   "cell_type": "markdown",
   "metadata": {
    "slideshow": {
     "slide_type": "slide"
    }
   },
   "source": [
    "## Задача поиска допустимого начального приближения"
   ]
  },
  {
   "cell_type": "markdown",
   "metadata": {
    "slideshow": {
     "slide_type": "slide"
    }
   },
   "source": [
    "### Первая фаза метода"
   ]
  },
  {
   "cell_type": "markdown",
   "metadata": {
    "slideshow": {
     "slide_type": "slide"
    }
   },
   "source": [
    "### Вторая фаза метода"
   ]
  },
  {
   "cell_type": "markdown",
   "metadata": {
    "slideshow": {
     "slide_type": "slide"
    }
   },
   "source": [
    "### Комбинирование первой фазы и второй фазы"
   ]
  },
  {
   "cell_type": "markdown",
   "metadata": {
    "slideshow": {
     "slide_type": "slide"
    }
   },
   "source": [
    "### Общая сложность метода"
   ]
  },
  {
   "cell_type": "markdown",
   "metadata": {
    "slideshow": {
     "slide_type": "slide"
    }
   },
   "source": [
    "## Прямо-двойственный метод"
   ]
  },
  {
   "cell_type": "markdown",
   "metadata": {
    "slideshow": {
     "slide_type": "slide"
    }
   },
   "source": [
    "### Сравнение с барьерным методом"
   ]
  },
  {
   "cell_type": "markdown",
   "metadata": {
    "slideshow": {
     "slide_type": "slide"
    }
   },
   "source": [
    "## Резюме\n",
    "\n",
    "- Метод Ньютона для выпуклой задачи с оганичениями типа равенств\n",
    "- Случай недопустимой начальной точки\n",
    "- Прямой барьерный метод\n",
    "- Прямо-двойственный метод"
   ]
  }
 ],
 "metadata": {
  "celltoolbar": "Slideshow",
  "kernelspec": {
   "display_name": "Python [conda env:cvxpy]",
   "language": "python",
   "name": "conda-env-cvxpy-py"
  },
  "language_info": {
   "codemirror_mode": {
    "name": "ipython",
    "version": 2
   },
   "file_extension": ".py",
   "mimetype": "text/x-python",
   "name": "python",
   "nbconvert_exporter": "python",
   "pygments_lexer": "ipython2",
   "version": "2.7.13"
  }
 },
 "nbformat": 4,
 "nbformat_minor": 2
}
