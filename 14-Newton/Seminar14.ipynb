{
 "cells": [
  {
   "cell_type": "markdown",
   "metadata": {
    "slideshow": {
     "slide_type": "slide"
    }
   },
   "source": [
    "# Семинар 14\n",
    "\n",
    "# Метод Ньютона: дорого и быстро"
   ]
  },
  {
   "cell_type": "markdown",
   "metadata": {
    "slideshow": {
     "slide_type": "slide"
    }
   },
   "source": [
    "## На прошлом семинаре...\n",
    "\n",
    "1. Методы спуска\n",
    "2. Направление убывания\n",
    "3. Градиентный метод\n",
    "4. Правила выбора шага\n",
    "5. Теоремы сходимости\n",
    "6. Эксперименты"
   ]
  },
  {
   "cell_type": "markdown",
   "metadata": {
    "slideshow": {
     "slide_type": "slide"
    }
   },
   "source": [
    "## Недостатки градиентного спуска\n",
    "\n",
    "- Линейная скорость сходимости\n",
    "- Зависимость от числа обусловнности гессиана\n",
    "\n",
    "Можно ли их одновременно преодолеть?"
   ]
  },
  {
   "cell_type": "markdown",
   "metadata": {
    "slideshow": {
     "slide_type": "slide"
    }
   },
   "source": [
    "## Мотивация метода Ньютона\n",
    "Рассмотрим задачу\n",
    "$$\n",
    "\\min\\limits_{x\\ \\in \\mathbb{R}^n} f(x).\n",
    "$$\n",
    "\n",
    "- Градиентный спуск $\\equiv$ **линейная** аппроксимация $f$\n",
    "- Метод Ньютона $\\equiv$ **квадратичная** аппроксимация $f$:\n",
    "$$\n",
    "f(x + h) \\approx f(x) + \\langle f'(x), h \\rangle + \\frac{1}{2}h^{\\top}f''(x)h \\to \\min_{h}\n",
    "$$\n",
    "Из необходимого условия минимума:\n",
    "$$\n",
    "f'(x) + f''(x) h = 0, \\qquad h^* = -(f''(x))^{-1} f'(x)\n",
    "$$\n"
   ]
  },
  {
   "cell_type": "markdown",
   "metadata": {
    "slideshow": {
     "slide_type": "slide"
    }
   },
   "source": [
    "### Является ли найденное направление направлением убывания?\n",
    "\n",
    "Проверим знак скалярного произведения $\\langle f'(x), h^* \\rangle$.\n",
    "$$\n",
    "\\langle f'(x), h^* \\rangle = -(f')^{\\top}(x) (f''(x))^{-1} f'(x) < 0 \\iff f''(x) \\succ 0\n",
    "$$"
   ]
  },
  {
   "cell_type": "markdown",
   "metadata": {
    "slideshow": {
     "slide_type": "slide"
    }
   },
   "source": [
    "## Метод Ньютона\n",
    "\n",
    "```python\n",
    "def NewtonMethod(f, x0, epsilon, **kwargs):\n",
    "    x = x0\n",
    "    while True:\n",
    "        h = ComputeNewtonStep(x, f, **kwargs)\n",
    "        if StopCriterion(x, f, h, **kwargs) < epsilon:\n",
    "            break\n",
    "        alpha = SelectStepSize(x, h, f, **kwargs)\n",
    "        x = x + alpha * h\n",
    "    return x\n",
    "\n",
    "```"
   ]
  },
  {
   "cell_type": "markdown",
   "metadata": {
    "slideshow": {
     "slide_type": "slide"
    }
   },
   "source": [
    "## Теорема сходимости\n",
    "\n",
    "**Теорема.** Пусть функция $f(x)$ такая что\n",
    "- дважды дифференцируема и гессиан удовлетворяет условию Липшица с константой $M$\n",
    "- существует точка локального минимума с положительно определённым гессианом\n",
    "$$\n",
    "f''(x^*) \\succeq lI, \\; l > 0\n",
    "$$\n",
    "- начальная точка $x_0$ достаточно близка к точки минимума, в частности\n",
    "$$\n",
    "\\|x_0 - x^*\\|_2 \\leq \\frac{2l}{3M}\n",
    "$$\n",
    "\n",
    "Тогда метод Ньютона сходится **квадратично**:\n",
    "$$\n",
    "\\|x_{k+1} - x^* \\|_2 \\leq \\dfrac{M\\|x_k - x^*\\|^2_2}{2 (l - M\\|x_k - x^*\\|_2)}\n",
    "$$"
   ]
  },
  {
   "cell_type": "markdown",
   "metadata": {
    "slideshow": {
     "slide_type": "slide"
    }
   },
   "source": [
    "## Аффинная инвариантность\n",
    "\n",
    "Рассмотрим функцию $f(x)$ и невырожденное преобразование с матрицей $A$. \n",
    "\n",
    "Выясним, как изменится шаг метода Ньютона после преобразования $A$.\n",
    "\n",
    "Пусть $x = Ay$ и $g(y) = f(Ay)$. Тогда\n",
    "$$\n",
    "g(y + u) \\approx g(y) + \\langle g'(y), u \\rangle + \\frac{1}{2} u^{\\top} g''(y) u \\to \\min_{u}\n",
    "$$\n",
    "и\n",
    "$$\n",
    "u^* = -(g''(y))^{-1} g'(y) \\qquad y_{k+1} = y_k - (g''(y_k))^{-1} g'(y_k)\n",
    "$$\n",
    "или"
   ]
  },
  {
   "cell_type": "markdown",
   "metadata": {
    "slideshow": {
     "slide_type": "fragment"
    }
   },
   "source": [
    "\\begin{equation}\n",
    "\\begin{split}\n",
    "y_{k+1} & = y_k - (A^{\\top}f''(Ay_k)A)^{-1} A^{\\top}f'(Ay_k)\\\\\n",
    "& = y_k - A^{-1}(f''(Ay_k))^{-1}f'(Ay_k)\n",
    "\\end{split}\n",
    "\\end{equation}\n",
    "Таким образом,\n",
    "$$\n",
    "Ay_{k+1} = Ay_k - (f''(Ay_k))^{-1}f'(Ay_k) \\quad x_{k+1} = x_k - (f''(x_k))^{-1}f'(x_k)\n",
    "$$\n",
    "Следовательно, направление метода Ньютона преобразуется при линейном преобразовани так же, как и координаты!"
   ]
  },
  {
   "cell_type": "markdown",
   "metadata": {
    "slideshow": {
     "slide_type": "slide"
    }
   },
   "source": [
    "## Вычислительная сложность и эксперименты"
   ]
  },
  {
   "cell_type": "markdown",
   "metadata": {
    "collapsed": true,
    "slideshow": {
     "slide_type": "fragment"
    }
   },
   "source": []
  },
  {
   "cell_type": "markdown",
   "metadata": {
    "slideshow": {
     "slide_type": "slide"
    }
   },
   "source": [
    "## Pro & Contra\n",
    "\n",
    "Pro\n",
    "\n",
    "- квадратичная сходимость вблизи решения\n",
    "- афинная инвариантность\n",
    "- параметры слабо влияют на скорость сходимости\n",
    "\n",
    "Contra\n",
    "\n",
    "- необходимо хранить гессиан на каждой итерации: $O(n^2)$ памяти\n",
    "- необходимо решать линейные системы: $O(n^3)$ операций"
   ]
  },
  {
   "cell_type": "markdown",
   "metadata": {
    "slideshow": {
     "slide_type": "slide"
    }
   },
   "source": [
    "## Сравнение с градиентным методом\n",
    "\n",
    "Метод | Скорость сходимости | Сложность | Аффинная инвариантность | Требования к $f(x)$\n",
    ":---: | :---: | :---: | :---: | ---\n",
    "Градиентный спуск | Глобально линейная | $O(n) + $ определение шага | Нет | Дифференцируема, липшицев градиент\n",
    "Метод Ньютона | Локально квадратичная | $O(n^3) + $ определение шага | Да | Дважды диференцируема, липшицев гессиан, положительно определён\n"
   ]
  },
  {
   "cell_type": "markdown",
   "metadata": {
    "slideshow": {
     "slide_type": "slide"
    }
   },
   "source": [
    "## Резюме\n",
    "\n",
    "1. Метод Ньютона\n",
    "2. Теоремы сходимости\n",
    "4. Сравнение с градиентным спуском\n",
    "5. Эксперименты"
   ]
  }
 ],
 "metadata": {
  "anaconda-cloud": {},
  "celltoolbar": "Slideshow",
  "kernelspec": {
   "display_name": "Python [conda env:cvxpy]",
   "language": "python",
   "name": "conda-env-cvxpy-py"
  },
  "language_info": {
   "codemirror_mode": {
    "name": "ipython",
    "version": 2
   },
   "file_extension": ".py",
   "mimetype": "text/x-python",
   "name": "python",
   "nbconvert_exporter": "python",
   "pygments_lexer": "ipython2",
   "version": "2.7.13"
  }
 },
 "nbformat": 4,
 "nbformat_minor": 0
}
