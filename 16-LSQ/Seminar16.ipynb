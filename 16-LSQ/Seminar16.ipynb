{
 "cells": [
  {
   "cell_type": "markdown",
   "metadata": {
    "slideshow": {
     "slide_type": "slide"
    }
   },
   "source": [
    "# Семинар 16\n",
    "# Задача наименьших квадратов (Least Squares Problem)"
   ]
  },
  {
   "cell_type": "markdown",
   "metadata": {
    "slideshow": {
     "slide_type": "slide"
    }
   },
   "source": [
    "## Постановка задачи\n",
    "\n",
    "1. **Широкая:** пусть даны $m$ пар измерениий $(x_i, y_i)$, где $ x_i \\in \\mathbb{R}^n, \\; y_i \\in \\mathbb{R}^p$. Найти такую функцию $f$ что \n",
    "$$\n",
    "\\|f(x_i) - y_i \\|^2_2 \\to \\min\n",
    "$$\n",
    "\n",
    "2. **Уже:** пусть даны $m$ пар измерениий $(x_i, y_i)$, где $ x_i \\in \\mathbb{R}^n, \\; y_i \\in \\mathbb{R}^p$. Найти такую *параметрическую* функцию $f(x, w)$ что \n",
    "$$\n",
    "\\|f(x_i, w) - y_i \\|^2_2 \\to \\min_w\n",
    "$$\n",
    "\n",
    "3. **Ещё уже:** пусть даны $m$ пар измерениий $(x_i, y_i)$, где $ x_i \\in \\mathbb{R}^n, \\; y_i \\in \\mathbb{R}$. Найти такую *параметрическую* функцию $f(x, w)$ что \n",
    "$$\n",
    "\\sum_{i=1}^m(f(x_i, w) - y_i )^2 \\to \\min_w\n",
    "$$"
   ]
  },
  {
   "cell_type": "markdown",
   "metadata": {
    "slideshow": {
     "slide_type": "slide"
    }
   },
   "source": [
    "## Линейный случай\n",
    "\n",
    "Рассмотрим случай линейной зависимости между измерениями $x_i$ и $y_i$.\n",
    "\n",
    "Тогда\n",
    "$$\n",
    "f(x, w) = x^{\\top}w\n",
    "$$\n",
    "или\n",
    "$$\n",
    "f(X, W) = XW\n",
    "$$\n",
    "Задача наименьших квадратов формулируется в виде\n",
    "$$\n",
    "L(w|X, y) = \\sum\\limits_{i=1}^m (x^{\\top}_i w - y_i)^2 = \\|Xw - y \\|^2_2 \\to \\min_w\n",
    "$$"
   ]
  },
  {
   "cell_type": "markdown",
   "metadata": {
    "slideshow": {
     "slide_type": "slide"
    }
   },
   "source": [
    "### Нормальное уравнение\n",
    "\n",
    "Из необходимого условия минимума первого порядка следует, что \n",
    "$$\n",
    "L'(w^* | X, y) = 0 \\Rightarrow (X^{\\top}X)w^* = X^{\\top}y\n",
    "$$\n",
    "\n",
    "**Замечение:** убедитесь, что Вы можете вывести выражение для $w^*$!\n",
    "\n",
    "**Вопрос:** к какой задаче сведена задача оптимизации?"
   ]
  },
  {
   "cell_type": "markdown",
   "metadata": {
    "slideshow": {
     "slide_type": "slide"
    }
   },
   "source": [
    "### Прямые методы"
   ]
  },
  {
   "cell_type": "markdown",
   "metadata": {
    "slideshow": {
     "slide_type": "slide"
    }
   },
   "source": [
    "#### LU"
   ]
  },
  {
   "cell_type": "markdown",
   "metadata": {
    "slideshow": {
     "slide_type": "slide"
    }
   },
   "source": [
    "### QR"
   ]
  },
  {
   "cell_type": "markdown",
   "metadata": {
    "slideshow": {
     "slide_type": "slide"
    }
   },
   "source": [
    "### Итерационные методы"
   ]
  },
  {
   "cell_type": "markdown",
   "metadata": {
    "slideshow": {
     "slide_type": "slide"
    }
   },
   "source": [
    "## Нелинейный случай"
   ]
  },
  {
   "cell_type": "markdown",
   "metadata": {
    "slideshow": {
     "slide_type": "slide"
    }
   },
   "source": [
    "### Метод Гаусса-Ньютона"
   ]
  },
  {
   "cell_type": "markdown",
   "metadata": {
    "slideshow": {
     "slide_type": "slide"
    }
   },
   "source": [
    "### Метод Левенберга-Марквардта"
   ]
  },
  {
   "cell_type": "markdown",
   "metadata": {
    "slideshow": {
     "slide_type": "slide"
    }
   },
   "source": [
    "## Некорректные задачи"
   ]
  },
  {
   "cell_type": "markdown",
   "metadata": {
    "slideshow": {
     "slide_type": "slide"
    }
   },
   "source": [
    "### Регуляризация"
   ]
  },
  {
   "cell_type": "markdown",
   "metadata": {
    "slideshow": {
     "slide_type": "slide"
    }
   },
   "source": [
    "#### Тихоновская регуляризация (Ridge)"
   ]
  },
  {
   "cell_type": "markdown",
   "metadata": {
    "slideshow": {
     "slide_type": "slide"
    }
   },
   "source": [
    "#### Lasso"
   ]
  },
  {
   "cell_type": "markdown",
   "metadata": {
    "slideshow": {
     "slide_type": "slide"
    }
   },
   "source": [
    "#### Elastic Net"
   ]
  },
  {
   "cell_type": "markdown",
   "metadata": {
    "slideshow": {
     "slide_type": "slide"
    }
   },
   "source": [
    "## Резюме"
   ]
  }
 ],
 "metadata": {
  "celltoolbar": "Slideshow",
  "kernelspec": {
   "display_name": "Python [conda env:cvxpy]",
   "language": "python",
   "name": "conda-env-cvxpy-py"
  },
  "language_info": {
   "codemirror_mode": {
    "name": "ipython",
    "version": 2
   },
   "file_extension": ".py",
   "mimetype": "text/x-python",
   "name": "python",
   "nbconvert_exporter": "python",
   "pygments_lexer": "ipython2",
   "version": "2.7.13"
  }
 },
 "nbformat": 4,
 "nbformat_minor": 2
}
